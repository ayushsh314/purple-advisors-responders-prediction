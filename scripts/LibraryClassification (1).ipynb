{
  "cells": [
    {
      "cell_type": "code",
      "execution_count": 1,
      "metadata": {
        "colab": {
          "base_uri": "https://localhost:8080/"
        },
        "id": "wtqU36vM30vQ",
        "outputId": "e589b825-9c26-497f-bd08-727383bca5e0"
      },
      "outputs": [
        {
          "name": "stderr",
          "output_type": "stream",
          "text": [
            "[nltk_data] Downloading package punkt to\n",
            "[nltk_data]     /Users/ayushsharma/nltk_data...\n",
            "[nltk_data]   Package punkt is already up-to-date!\n",
            "[nltk_data] Downloading package stopwords to\n",
            "[nltk_data]     /Users/ayushsharma/nltk_data...\n",
            "[nltk_data]   Package stopwords is already up-to-date!\n"
          ]
        }
      ],
      "source": [
        "import matplotlib.pyplot as plt\n",
        "import seaborn as sns\n",
        "import numpy as np\n",
        "import pandas as pd\n",
        "import re\n",
        "from collections import Counter\n",
        "import nltk\n",
        "nltk.download('punkt')\n",
        "nltk.download('stopwords')\n",
        "from nltk.corpus import stopwords\n",
        "from nltk.tokenize import word_tokenize\n",
        "from nltk.stem import PorterStemmer"
      ]
    },
    {
      "cell_type": "markdown",
      "metadata": {
        "id": "95vjBW9DvVdD"
      },
      "source": [
        "Loading the datasheet"
      ]
    },
    {
      "cell_type": "code",
      "execution_count": 2,
      "metadata": {
        "id": "ho68CP2Zs4VD"
      },
      "outputs": [],
      "source": [
        "url = f'https://docs.google.com/spreadsheets/d/1vKAIohc1IYOc6E3Y2YLRzAgLcwswKrSKLXX2J47rhjE/gviz/tq?tqx=out:csv&sheet=Updated_Data_Sheet'"
      ]
    },
    {
      "cell_type": "code",
      "execution_count": 40,
      "metadata": {
        "id": "QuRM-NHfrDf5"
      },
      "outputs": [],
      "source": [
        "import pandas as pd\n",
        "\n",
        "df = pd.read_csv(url)"
      ]
    },
    {
      "cell_type": "code",
      "execution_count": 41,
      "metadata": {
        "colab": {
          "base_uri": "https://localhost:8080/",
          "height": 655
        },
        "id": "RqSzVoGsrkCm",
        "outputId": "52ac61a6-e9a7-4381-dfe6-c2e1a6892a3f"
      },
      "outputs": [
        {
          "data": {
            "text/html": [
              "<div>\n",
              "<style scoped>\n",
              "    .dataframe tbody tr th:only-of-type {\n",
              "        vertical-align: middle;\n",
              "    }\n",
              "\n",
              "    .dataframe tbody tr th {\n",
              "        vertical-align: top;\n",
              "    }\n",
              "\n",
              "    .dataframe thead th {\n",
              "        text-align: right;\n",
              "    }\n",
              "</style>\n",
              "<table border=\"1\" class=\"dataframe\">\n",
              "  <thead>\n",
              "    <tr style=\"text-align: right;\">\n",
              "      <th></th>\n",
              "      <th>LinkedInMemberId</th>\n",
              "      <th>FirstName</th>\n",
              "      <th>LastName</th>\n",
              "      <th>Title</th>\n",
              "      <th>Company</th>\n",
              "      <th>Occupation</th>\n",
              "      <th>Email</th>\n",
              "      <th>Phone</th>\n",
              "      <th>Location(original)</th>\n",
              "      <th>Location</th>\n",
              "      <th>...</th>\n",
              "      <th>Company Description</th>\n",
              "      <th>Social Footprint</th>\n",
              "      <th>Unnamed: 32</th>\n",
              "      <th>Unnamed: 33</th>\n",
              "      <th>Unnamed: 34</th>\n",
              "      <th>Unnamed: 35</th>\n",
              "      <th>Unnamed: 36</th>\n",
              "      <th>Unnamed: 37</th>\n",
              "      <th>Unnamed: 38</th>\n",
              "      <th>Unnamed: 39</th>\n",
              "    </tr>\n",
              "  </thead>\n",
              "  <tbody>\n",
              "    <tr>\n",
              "      <th>0</th>\n",
              "      <td>1074760800</td>\n",
              "      <td>scott</td>\n",
              "      <td>chen</td>\n",
              "      <td>CEO</td>\n",
              "      <td>SocialEpoch</td>\n",
              "      <td>傲途SocialEpoch- Founder &amp; CEO| SocialSelling Ex...</td>\n",
              "      <td>NaN</td>\n",
              "      <td>NaN</td>\n",
              "      <td>Singapore</td>\n",
              "      <td>Asia</td>\n",
              "      <td>...</td>\n",
              "      <td>We are a B2B social selling solutions provider...</td>\n",
              "      <td>NaN</td>\n",
              "      <td>NaN</td>\n",
              "      <td>NaN</td>\n",
              "      <td>NaN</td>\n",
              "      <td>NaN</td>\n",
              "      <td>NaN</td>\n",
              "      <td>NaN</td>\n",
              "      <td>NaN</td>\n",
              "      <td>NaN</td>\n",
              "    </tr>\n",
              "    <tr>\n",
              "      <th>1</th>\n",
              "      <td>1021300140</td>\n",
              "      <td>Leon</td>\n",
              "      <td>Lyu</td>\n",
              "      <td>CEO</td>\n",
              "      <td>ANTPOOL Tech</td>\n",
              "      <td>Chief Executive Officer at ANTPOOL Tech</td>\n",
              "      <td>leonlv2028@gmail.com</td>\n",
              "      <td>NaN</td>\n",
              "      <td>Singapore</td>\n",
              "      <td>Asia</td>\n",
              "      <td>...</td>\n",
              "      <td>ANTPOOL, as a blockchain infrastructure compan...</td>\n",
              "      <td>NaN</td>\n",
              "      <td>NaN</td>\n",
              "      <td>NaN</td>\n",
              "      <td>NaN</td>\n",
              "      <td>NaN</td>\n",
              "      <td>NaN</td>\n",
              "      <td>NaN</td>\n",
              "      <td>NaN</td>\n",
              "      <td>NaN</td>\n",
              "    </tr>\n",
              "    <tr>\n",
              "      <th>2</th>\n",
              "      <td>1005651311</td>\n",
              "      <td>Dmytro</td>\n",
              "      <td>Fedorchuk</td>\n",
              "      <td>CEO</td>\n",
              "      <td>ABM Cloud</td>\n",
              "      <td>CEOABM Loyalty – ABM Cloud</td>\n",
              "      <td>fedd@abmcloud.com</td>\n",
              "      <td>NaN</td>\n",
              "      <td>Ukraine</td>\n",
              "      <td>East Europe</td>\n",
              "      <td>...</td>\n",
              "      <td>Innovative company providing professional IT s...</td>\n",
              "      <td>NaN</td>\n",
              "      <td>NaN</td>\n",
              "      <td>NaN</td>\n",
              "      <td>NaN</td>\n",
              "      <td>NaN</td>\n",
              "      <td>NaN</td>\n",
              "      <td>NaN</td>\n",
              "      <td>NaN</td>\n",
              "      <td>NaN</td>\n",
              "    </tr>\n",
              "    <tr>\n",
              "      <th>3</th>\n",
              "      <td>888693775</td>\n",
              "      <td>Philipp</td>\n",
              "      <td>Wellstein</td>\n",
              "      <td>CEO</td>\n",
              "      <td>WellDev</td>\n",
              "      <td>Chief Executive Officer at WellDev</td>\n",
              "      <td>NaN</td>\n",
              "      <td>NaN</td>\n",
              "      <td>Switzerland</td>\n",
              "      <td>West Europe</td>\n",
              "      <td>...</td>\n",
              "      <td>We offer innovative, high performing and custo...</td>\n",
              "      <td>NaN</td>\n",
              "      <td>NaN</td>\n",
              "      <td>NaN</td>\n",
              "      <td>NaN</td>\n",
              "      <td>NaN</td>\n",
              "      <td>NaN</td>\n",
              "      <td>NaN</td>\n",
              "      <td>NaN</td>\n",
              "      <td>NaN</td>\n",
              "    </tr>\n",
              "    <tr>\n",
              "      <th>4</th>\n",
              "      <td>875019298</td>\n",
              "      <td>Francesca</td>\n",
              "      <td>Turchi</td>\n",
              "      <td>CEO</td>\n",
              "      <td>Hermes Trade</td>\n",
              "      <td>Chief Executive Officer presso Hermes Trade &amp; ...</td>\n",
              "      <td>NaN</td>\n",
              "      <td>NaN</td>\n",
              "      <td>Italy</td>\n",
              "      <td>West Europe</td>\n",
              "      <td>...</td>\n",
              "      <td>Better together: we provide you with a team of...</td>\n",
              "      <td>NaN</td>\n",
              "      <td>NaN</td>\n",
              "      <td>NaN</td>\n",
              "      <td>NaN</td>\n",
              "      <td>NaN</td>\n",
              "      <td>NaN</td>\n",
              "      <td>NaN</td>\n",
              "      <td>NaN</td>\n",
              "      <td>NaN</td>\n",
              "    </tr>\n",
              "  </tbody>\n",
              "</table>\n",
              "<p>5 rows × 40 columns</p>\n",
              "</div>"
            ],
            "text/plain": [
              "   LinkedInMemberId  FirstName   LastName Title       Company  \\\n",
              "0        1074760800      scott       chen   CEO   SocialEpoch   \n",
              "1        1021300140       Leon        Lyu   CEO  ANTPOOL Tech   \n",
              "2        1005651311     Dmytro  Fedorchuk   CEO     ABM Cloud   \n",
              "3         888693775    Philipp  Wellstein   CEO       WellDev   \n",
              "4         875019298  Francesca     Turchi   CEO  Hermes Trade   \n",
              "\n",
              "                                          Occupation                 Email  \\\n",
              "0  傲途SocialEpoch- Founder & CEO| SocialSelling Ex...                   NaN   \n",
              "1            Chief Executive Officer at ANTPOOL Tech  leonlv2028@gmail.com   \n",
              "2                         CEOABM Loyalty – ABM Cloud     fedd@abmcloud.com   \n",
              "3                 Chief Executive Officer at WellDev                   NaN   \n",
              "4  Chief Executive Officer presso Hermes Trade & ...                   NaN   \n",
              "\n",
              "   Phone Location(original)     Location  ...  \\\n",
              "0    NaN          Singapore         Asia  ...   \n",
              "1    NaN          Singapore         Asia  ...   \n",
              "2    NaN            Ukraine  East Europe  ...   \n",
              "3    NaN        Switzerland  West Europe  ...   \n",
              "4    NaN              Italy  West Europe  ...   \n",
              "\n",
              "                                 Company Description Social Footprint  \\\n",
              "0  We are a B2B social selling solutions provider...              NaN   \n",
              "1  ANTPOOL, as a blockchain infrastructure compan...              NaN   \n",
              "2  Innovative company providing professional IT s...              NaN   \n",
              "3  We offer innovative, high performing and custo...              NaN   \n",
              "4  Better together: we provide you with a team of...              NaN   \n",
              "\n",
              "  Unnamed: 32 Unnamed: 33  Unnamed: 34 Unnamed: 35 Unnamed: 36 Unnamed: 37  \\\n",
              "0         NaN         NaN          NaN         NaN         NaN         NaN   \n",
              "1         NaN         NaN          NaN         NaN         NaN         NaN   \n",
              "2         NaN         NaN          NaN         NaN         NaN         NaN   \n",
              "3         NaN         NaN          NaN         NaN         NaN         NaN   \n",
              "4         NaN         NaN          NaN         NaN         NaN         NaN   \n",
              "\n",
              "   Unnamed: 38 Unnamed: 39  \n",
              "0          NaN         NaN  \n",
              "1          NaN         NaN  \n",
              "2          NaN         NaN  \n",
              "3          NaN         NaN  \n",
              "4          NaN         NaN  \n",
              "\n",
              "[5 rows x 40 columns]"
            ]
          },
          "execution_count": 41,
          "metadata": {},
          "output_type": "execute_result"
        }
      ],
      "source": [
        "df.head()"
      ]
    },
    {
      "cell_type": "code",
      "execution_count": 42,
      "metadata": {
        "colab": {
          "base_uri": "https://localhost:8080/",
          "height": 672
        },
        "id": "9yZnNYMyrGKH",
        "outputId": "4d20b4b9-7655-4117-9b99-fbd1cd162dfc"
      },
      "outputs": [
        {
          "data": {
            "text/html": [
              "<div>\n",
              "<style scoped>\n",
              "    .dataframe tbody tr th:only-of-type {\n",
              "        vertical-align: middle;\n",
              "    }\n",
              "\n",
              "    .dataframe tbody tr th {\n",
              "        vertical-align: top;\n",
              "    }\n",
              "\n",
              "    .dataframe thead th {\n",
              "        text-align: right;\n",
              "    }\n",
              "</style>\n",
              "<table border=\"1\" class=\"dataframe\">\n",
              "  <thead>\n",
              "    <tr style=\"text-align: right;\">\n",
              "      <th></th>\n",
              "      <th>LinkedInMemberId</th>\n",
              "      <th>FirstName</th>\n",
              "      <th>LastName</th>\n",
              "      <th>Title</th>\n",
              "      <th>Company</th>\n",
              "      <th>Occupation</th>\n",
              "      <th>Email</th>\n",
              "      <th>Phone</th>\n",
              "      <th>Location(original)</th>\n",
              "      <th>Location</th>\n",
              "      <th>...</th>\n",
              "      <th>Social Footprint</th>\n",
              "      <th>Unnamed: 32</th>\n",
              "      <th>Unnamed: 33</th>\n",
              "      <th>Unnamed: 34</th>\n",
              "      <th>Unnamed: 35</th>\n",
              "      <th>Unnamed: 36</th>\n",
              "      <th>Unnamed: 37</th>\n",
              "      <th>Unnamed: 38</th>\n",
              "      <th>Unnamed: 39</th>\n",
              "      <th>TextColumn</th>\n",
              "    </tr>\n",
              "  </thead>\n",
              "  <tbody>\n",
              "    <tr>\n",
              "      <th>0</th>\n",
              "      <td>1074760800</td>\n",
              "      <td>scott</td>\n",
              "      <td>chen</td>\n",
              "      <td>CEO</td>\n",
              "      <td>SocialEpoch</td>\n",
              "      <td>傲途SocialEpoch- Founder &amp; CEO| SocialSelling Ex...</td>\n",
              "      <td>NaN</td>\n",
              "      <td>NaN</td>\n",
              "      <td>Singapore</td>\n",
              "      <td>Asia</td>\n",
              "      <td>...</td>\n",
              "      <td>NaN</td>\n",
              "      <td>NaN</td>\n",
              "      <td>NaN</td>\n",
              "      <td>NaN</td>\n",
              "      <td>NaN</td>\n",
              "      <td>NaN</td>\n",
              "      <td>NaN</td>\n",
              "      <td>NaN</td>\n",
              "      <td>NaN</td>\n",
              "      <td>a B2B social selling solutions provider, dedic...</td>\n",
              "    </tr>\n",
              "    <tr>\n",
              "      <th>1</th>\n",
              "      <td>1021300140</td>\n",
              "      <td>Leon</td>\n",
              "      <td>Lyu</td>\n",
              "      <td>CEO</td>\n",
              "      <td>ANTPOOL Tech</td>\n",
              "      <td>Chief Executive Officer at ANTPOOL Tech</td>\n",
              "      <td>leonlv2028@gmail.com</td>\n",
              "      <td>NaN</td>\n",
              "      <td>Singapore</td>\n",
              "      <td>Asia</td>\n",
              "      <td>...</td>\n",
              "      <td>NaN</td>\n",
              "      <td>NaN</td>\n",
              "      <td>NaN</td>\n",
              "      <td>NaN</td>\n",
              "      <td>NaN</td>\n",
              "      <td>NaN</td>\n",
              "      <td>NaN</td>\n",
              "      <td>NaN</td>\n",
              "      <td>NaN</td>\n",
              "      <td>a blockchain infrastructure company, believes ...</td>\n",
              "    </tr>\n",
              "    <tr>\n",
              "      <th>2</th>\n",
              "      <td>1005651311</td>\n",
              "      <td>Dmytro</td>\n",
              "      <td>Fedorchuk</td>\n",
              "      <td>CEO</td>\n",
              "      <td>ABM Cloud</td>\n",
              "      <td>CEOABM Loyalty – ABM Cloud</td>\n",
              "      <td>fedd@abmcloud.com</td>\n",
              "      <td>NaN</td>\n",
              "      <td>Ukraine</td>\n",
              "      <td>East Europe</td>\n",
              "      <td>...</td>\n",
              "      <td>NaN</td>\n",
              "      <td>NaN</td>\n",
              "      <td>NaN</td>\n",
              "      <td>NaN</td>\n",
              "      <td>NaN</td>\n",
              "      <td>NaN</td>\n",
              "      <td>NaN</td>\n",
              "      <td>NaN</td>\n",
              "      <td>NaN</td>\n",
              "      <td>providing professional IT services in developi...</td>\n",
              "    </tr>\n",
              "    <tr>\n",
              "      <th>3</th>\n",
              "      <td>888693775</td>\n",
              "      <td>Philipp</td>\n",
              "      <td>Wellstein</td>\n",
              "      <td>CEO</td>\n",
              "      <td>WellDev</td>\n",
              "      <td>Chief Executive Officer at WellDev</td>\n",
              "      <td>NaN</td>\n",
              "      <td>NaN</td>\n",
              "      <td>Switzerland</td>\n",
              "      <td>West Europe</td>\n",
              "      <td>...</td>\n",
              "      <td>NaN</td>\n",
              "      <td>NaN</td>\n",
              "      <td>NaN</td>\n",
              "      <td>NaN</td>\n",
              "      <td>NaN</td>\n",
              "      <td>NaN</td>\n",
              "      <td>NaN</td>\n",
              "      <td>NaN</td>\n",
              "      <td>NaN</td>\n",
              "      <td>innovative, high performing and customer-centr...</td>\n",
              "    </tr>\n",
              "    <tr>\n",
              "      <th>4</th>\n",
              "      <td>875019298</td>\n",
              "      <td>Francesca</td>\n",
              "      <td>Turchi</td>\n",
              "      <td>CEO</td>\n",
              "      <td>Hermes Trade</td>\n",
              "      <td>Chief Executive Officer presso Hermes Trade &amp; ...</td>\n",
              "      <td>NaN</td>\n",
              "      <td>NaN</td>\n",
              "      <td>Italy</td>\n",
              "      <td>West Europe</td>\n",
              "      <td>...</td>\n",
              "      <td>NaN</td>\n",
              "      <td>NaN</td>\n",
              "      <td>NaN</td>\n",
              "      <td>NaN</td>\n",
              "      <td>NaN</td>\n",
              "      <td>NaN</td>\n",
              "      <td>NaN</td>\n",
              "      <td>NaN</td>\n",
              "      <td>NaN</td>\n",
              "      <td>we provide you with a team of two or more digi...</td>\n",
              "    </tr>\n",
              "  </tbody>\n",
              "</table>\n",
              "<p>5 rows × 41 columns</p>\n",
              "</div>"
            ],
            "text/plain": [
              "   LinkedInMemberId  FirstName   LastName Title       Company  \\\n",
              "0        1074760800      scott       chen   CEO   SocialEpoch   \n",
              "1        1021300140       Leon        Lyu   CEO  ANTPOOL Tech   \n",
              "2        1005651311     Dmytro  Fedorchuk   CEO     ABM Cloud   \n",
              "3         888693775    Philipp  Wellstein   CEO       WellDev   \n",
              "4         875019298  Francesca     Turchi   CEO  Hermes Trade   \n",
              "\n",
              "                                          Occupation                 Email  \\\n",
              "0  傲途SocialEpoch- Founder & CEO| SocialSelling Ex...                   NaN   \n",
              "1            Chief Executive Officer at ANTPOOL Tech  leonlv2028@gmail.com   \n",
              "2                         CEOABM Loyalty – ABM Cloud     fedd@abmcloud.com   \n",
              "3                 Chief Executive Officer at WellDev                   NaN   \n",
              "4  Chief Executive Officer presso Hermes Trade & ...                   NaN   \n",
              "\n",
              "   Phone Location(original)     Location  ... Social Footprint Unnamed: 32  \\\n",
              "0    NaN          Singapore         Asia  ...              NaN         NaN   \n",
              "1    NaN          Singapore         Asia  ...              NaN         NaN   \n",
              "2    NaN            Ukraine  East Europe  ...              NaN         NaN   \n",
              "3    NaN        Switzerland  West Europe  ...              NaN         NaN   \n",
              "4    NaN              Italy  West Europe  ...              NaN         NaN   \n",
              "\n",
              "  Unnamed: 33 Unnamed: 34  Unnamed: 35 Unnamed: 36 Unnamed: 37 Unnamed: 38  \\\n",
              "0         NaN         NaN          NaN         NaN         NaN         NaN   \n",
              "1         NaN         NaN          NaN         NaN         NaN         NaN   \n",
              "2         NaN         NaN          NaN         NaN         NaN         NaN   \n",
              "3         NaN         NaN          NaN         NaN         NaN         NaN   \n",
              "4         NaN         NaN          NaN         NaN         NaN         NaN   \n",
              "\n",
              "   Unnamed: 39                                         TextColumn  \n",
              "0          NaN  a B2B social selling solutions provider, dedic...  \n",
              "1          NaN  a blockchain infrastructure company, believes ...  \n",
              "2          NaN  providing professional IT services in developi...  \n",
              "3          NaN  innovative, high performing and customer-centr...  \n",
              "4          NaN  we provide you with a team of two or more digi...  \n",
              "\n",
              "[5 rows x 41 columns]"
            ]
          },
          "execution_count": 42,
          "metadata": {},
          "output_type": "execute_result"
        }
      ],
      "source": [
        "def remove_first_two_words(text):\n",
        "    words = text.split()\n",
        "    if len(words) >= 2:\n",
        "        return ' '.join(words[2:])\n",
        "    else:\n",
        "        return text\n",
        "\n",
        "# Apply the function to the DataFrame column\n",
        "df['TextColumn'] = df['Company Description'].apply(remove_first_two_words)\n",
        "\n",
        "# Print the updated DataFrame\n",
        "df.head()"
      ]
    },
    {
      "cell_type": "code",
      "execution_count": 43,
      "metadata": {
        "id": "a8PMh4PDHFHy"
      },
      "outputs": [],
      "source": [
        "data = pd.DataFrame()\n",
        "columns_to_copy = ['Title', 'Location', 'Number of employees', 'Industry Classification', 'compute_rev_num', 'Job function', 'Primary Industry','Number of loc','Business model','TextColumn','Status']\n",
        "\n",
        "for col in columns_to_copy:\n",
        "    data[col] = df[col]"
      ]
    },
    {
      "cell_type": "markdown",
      "metadata": {
        "id": "FRC-2MO4vp5o"
      },
      "source": [
        "## Columns under consideration"
      ]
    },
    {
      "cell_type": "code",
      "execution_count": 44,
      "metadata": {
        "colab": {
          "base_uri": "https://localhost:8080/",
          "height": 449
        },
        "id": "PACvdE4LHJre",
        "outputId": "fc21fd76-432a-4eb1-c67c-eb65fec0fa76"
      },
      "outputs": [
        {
          "data": {
            "text/html": [
              "<div>\n",
              "<style scoped>\n",
              "    .dataframe tbody tr th:only-of-type {\n",
              "        vertical-align: middle;\n",
              "    }\n",
              "\n",
              "    .dataframe tbody tr th {\n",
              "        vertical-align: top;\n",
              "    }\n",
              "\n",
              "    .dataframe thead th {\n",
              "        text-align: right;\n",
              "    }\n",
              "</style>\n",
              "<table border=\"1\" class=\"dataframe\">\n",
              "  <thead>\n",
              "    <tr style=\"text-align: right;\">\n",
              "      <th></th>\n",
              "      <th>Title</th>\n",
              "      <th>Location</th>\n",
              "      <th>Number of employees</th>\n",
              "      <th>Industry Classification</th>\n",
              "      <th>compute_rev_num</th>\n",
              "      <th>Job function</th>\n",
              "      <th>Primary Industry</th>\n",
              "      <th>Number of loc</th>\n",
              "      <th>Business model</th>\n",
              "      <th>TextColumn</th>\n",
              "      <th>Status</th>\n",
              "    </tr>\n",
              "  </thead>\n",
              "  <tbody>\n",
              "    <tr>\n",
              "      <th>0</th>\n",
              "      <td>CEO</td>\n",
              "      <td>Asia</td>\n",
              "      <td>28</td>\n",
              "      <td>Product</td>\n",
              "      <td>420000</td>\n",
              "      <td>Executive Management</td>\n",
              "      <td>Software Development</td>\n",
              "      <td>3</td>\n",
              "      <td>B2B</td>\n",
              "      <td>a B2B social selling solutions provider, dedic...</td>\n",
              "      <td>MEMBER_INVITATION_WITHDRAWN</td>\n",
              "    </tr>\n",
              "    <tr>\n",
              "      <th>1</th>\n",
              "      <td>CEO</td>\n",
              "      <td>Asia</td>\n",
              "      <td>17</td>\n",
              "      <td>Service</td>\n",
              "      <td>1122000</td>\n",
              "      <td>Executive Management</td>\n",
              "      <td>IT Services and Consulting</td>\n",
              "      <td>1</td>\n",
              "      <td>B2B</td>\n",
              "      <td>a blockchain infrastructure company, believes ...</td>\n",
              "      <td>MEMBER_CONNECTED</td>\n",
              "    </tr>\n",
              "    <tr>\n",
              "      <th>2</th>\n",
              "      <td>CEO</td>\n",
              "      <td>East Europe</td>\n",
              "      <td>137</td>\n",
              "      <td>Service</td>\n",
              "      <td>12330000</td>\n",
              "      <td>Executive Management</td>\n",
              "      <td>IT Services and Consulting</td>\n",
              "      <td>1</td>\n",
              "      <td>B2B</td>\n",
              "      <td>providing professional IT services in developi...</td>\n",
              "      <td>MEMBER_CONNECTED</td>\n",
              "    </tr>\n",
              "    <tr>\n",
              "      <th>3</th>\n",
              "      <td>CEO</td>\n",
              "      <td>West Europe</td>\n",
              "      <td>111</td>\n",
              "      <td>Service</td>\n",
              "      <td>15540000</td>\n",
              "      <td>Executive Management</td>\n",
              "      <td>Software Development</td>\n",
              "      <td>3</td>\n",
              "      <td>B2B</td>\n",
              "      <td>innovative, high performing and customer-centr...</td>\n",
              "      <td>MEMBER_INVITATION_WITHDRAWN</td>\n",
              "    </tr>\n",
              "    <tr>\n",
              "      <th>4</th>\n",
              "      <td>CEO</td>\n",
              "      <td>West Europe</td>\n",
              "      <td>69</td>\n",
              "      <td>Service</td>\n",
              "      <td>9660000</td>\n",
              "      <td>Executive Management</td>\n",
              "      <td>IT Services and Consulting</td>\n",
              "      <td>1</td>\n",
              "      <td>B2B</td>\n",
              "      <td>we provide you with a team of two or more digi...</td>\n",
              "      <td>MEMBER_INVITATION_WITHDRAWN</td>\n",
              "    </tr>\n",
              "  </tbody>\n",
              "</table>\n",
              "</div>"
            ],
            "text/plain": [
              "  Title     Location  Number of employees Industry Classification  \\\n",
              "0   CEO         Asia                   28                 Product   \n",
              "1   CEO         Asia                   17                 Service   \n",
              "2   CEO  East Europe                  137                 Service   \n",
              "3   CEO  West Europe                  111                 Service   \n",
              "4   CEO  West Europe                   69                 Service   \n",
              "\n",
              "   compute_rev_num          Job function            Primary Industry  \\\n",
              "0           420000  Executive Management        Software Development   \n",
              "1          1122000  Executive Management  IT Services and Consulting   \n",
              "2         12330000  Executive Management  IT Services and Consulting   \n",
              "3         15540000  Executive Management        Software Development   \n",
              "4          9660000  Executive Management  IT Services and Consulting   \n",
              "\n",
              "   Number of loc Business model  \\\n",
              "0              3            B2B   \n",
              "1              1            B2B   \n",
              "2              1            B2B   \n",
              "3              3            B2B   \n",
              "4              1            B2B   \n",
              "\n",
              "                                          TextColumn  \\\n",
              "0  a B2B social selling solutions provider, dedic...   \n",
              "1  a blockchain infrastructure company, believes ...   \n",
              "2  providing professional IT services in developi...   \n",
              "3  innovative, high performing and customer-centr...   \n",
              "4  we provide you with a team of two or more digi...   \n",
              "\n",
              "                        Status  \n",
              "0  MEMBER_INVITATION_WITHDRAWN  \n",
              "1             MEMBER_CONNECTED  \n",
              "2             MEMBER_CONNECTED  \n",
              "3  MEMBER_INVITATION_WITHDRAWN  \n",
              "4  MEMBER_INVITATION_WITHDRAWN  "
            ]
          },
          "execution_count": 44,
          "metadata": {},
          "output_type": "execute_result"
        }
      ],
      "source": [
        "data.head()"
      ]
    },
    {
      "cell_type": "markdown",
      "metadata": {
        "id": "m5rlUtZpvzhR"
      },
      "source": [
        "## One hot encoding of the Y(Status) column"
      ]
    },
    {
      "cell_type": "code",
      "execution_count": 8,
      "metadata": {
        "colab": {
          "base_uri": "https://localhost:8080/",
          "height": 310
        },
        "id": "WujNSheUHK_O",
        "outputId": "d58c3bb0-a18a-482f-b37d-7c021469368f"
      },
      "outputs": [
        {
          "data": {
            "text/html": [
              "<div>\n",
              "<style scoped>\n",
              "    .dataframe tbody tr th:only-of-type {\n",
              "        vertical-align: middle;\n",
              "    }\n",
              "\n",
              "    .dataframe tbody tr th {\n",
              "        vertical-align: top;\n",
              "    }\n",
              "\n",
              "    .dataframe thead th {\n",
              "        text-align: right;\n",
              "    }\n",
              "</style>\n",
              "<table border=\"1\" class=\"dataframe\">\n",
              "  <thead>\n",
              "    <tr style=\"text-align: right;\">\n",
              "      <th></th>\n",
              "      <th>Title</th>\n",
              "      <th>Location</th>\n",
              "      <th>Number of employees</th>\n",
              "      <th>Industry Classification</th>\n",
              "      <th>compute_rev_num</th>\n",
              "      <th>Job function</th>\n",
              "      <th>Primary Industry</th>\n",
              "      <th>Number of loc</th>\n",
              "      <th>Business model</th>\n",
              "      <th>TextColumn</th>\n",
              "      <th>Status</th>\n",
              "    </tr>\n",
              "  </thead>\n",
              "  <tbody>\n",
              "    <tr>\n",
              "      <th>0</th>\n",
              "      <td>CEO</td>\n",
              "      <td>Asia</td>\n",
              "      <td>28</td>\n",
              "      <td>Product</td>\n",
              "      <td>420000</td>\n",
              "      <td>Executive Management</td>\n",
              "      <td>Software Development</td>\n",
              "      <td>3</td>\n",
              "      <td>B2B</td>\n",
              "      <td>a B2B social selling solutions provider, dedic...</td>\n",
              "      <td>0</td>\n",
              "    </tr>\n",
              "    <tr>\n",
              "      <th>1</th>\n",
              "      <td>CEO</td>\n",
              "      <td>Asia</td>\n",
              "      <td>17</td>\n",
              "      <td>Service</td>\n",
              "      <td>1122000</td>\n",
              "      <td>Executive Management</td>\n",
              "      <td>IT Services and Consulting</td>\n",
              "      <td>1</td>\n",
              "      <td>B2B</td>\n",
              "      <td>a blockchain infrastructure company, believes ...</td>\n",
              "      <td>1</td>\n",
              "    </tr>\n",
              "    <tr>\n",
              "      <th>2</th>\n",
              "      <td>CEO</td>\n",
              "      <td>East Europe</td>\n",
              "      <td>137</td>\n",
              "      <td>Service</td>\n",
              "      <td>12330000</td>\n",
              "      <td>Executive Management</td>\n",
              "      <td>IT Services and Consulting</td>\n",
              "      <td>1</td>\n",
              "      <td>B2B</td>\n",
              "      <td>providing professional IT services in developi...</td>\n",
              "      <td>1</td>\n",
              "    </tr>\n",
              "    <tr>\n",
              "      <th>3</th>\n",
              "      <td>CEO</td>\n",
              "      <td>West Europe</td>\n",
              "      <td>111</td>\n",
              "      <td>Service</td>\n",
              "      <td>15540000</td>\n",
              "      <td>Executive Management</td>\n",
              "      <td>Software Development</td>\n",
              "      <td>3</td>\n",
              "      <td>B2B</td>\n",
              "      <td>innovative, high performing and customer-centr...</td>\n",
              "      <td>0</td>\n",
              "    </tr>\n",
              "    <tr>\n",
              "      <th>4</th>\n",
              "      <td>CEO</td>\n",
              "      <td>West Europe</td>\n",
              "      <td>69</td>\n",
              "      <td>Service</td>\n",
              "      <td>9660000</td>\n",
              "      <td>Executive Management</td>\n",
              "      <td>IT Services and Consulting</td>\n",
              "      <td>1</td>\n",
              "      <td>B2B</td>\n",
              "      <td>we provide you with a team of two or more digi...</td>\n",
              "      <td>0</td>\n",
              "    </tr>\n",
              "  </tbody>\n",
              "</table>\n",
              "</div>"
            ],
            "text/plain": [
              "  Title     Location  Number of employees Industry Classification  \\\n",
              "0   CEO         Asia                   28                 Product   \n",
              "1   CEO         Asia                   17                 Service   \n",
              "2   CEO  East Europe                  137                 Service   \n",
              "3   CEO  West Europe                  111                 Service   \n",
              "4   CEO  West Europe                   69                 Service   \n",
              "\n",
              "   compute_rev_num          Job function            Primary Industry  \\\n",
              "0           420000  Executive Management        Software Development   \n",
              "1          1122000  Executive Management  IT Services and Consulting   \n",
              "2         12330000  Executive Management  IT Services and Consulting   \n",
              "3         15540000  Executive Management        Software Development   \n",
              "4          9660000  Executive Management  IT Services and Consulting   \n",
              "\n",
              "   Number of loc Business model  \\\n",
              "0              3            B2B   \n",
              "1              1            B2B   \n",
              "2              1            B2B   \n",
              "3              3            B2B   \n",
              "4              1            B2B   \n",
              "\n",
              "                                          TextColumn  Status  \n",
              "0  a B2B social selling solutions provider, dedic...       0  \n",
              "1  a blockchain infrastructure company, believes ...       1  \n",
              "2  providing professional IT services in developi...       1  \n",
              "3  innovative, high performing and customer-centr...       0  \n",
              "4  we provide you with a team of two or more digi...       0  "
            ]
          },
          "execution_count": 8,
          "metadata": {},
          "output_type": "execute_result"
        }
      ],
      "source": [
        "from sklearn.preprocessing import LabelEncoder\n",
        "label_encoder = LabelEncoder()\n",
        "\n",
        "# One hot encoding of the 'Status' column\n",
        "custom_mapping = {\n",
        "    'MEMBER_CONNECTED': 1,\n",
        "    'MEMBER_INVITATION_WITHDRAWN': 0,\n",
        "}\n",
        "\n",
        "# Using map() function\n",
        "data['Status'] = data['Status'].map(custom_mapping)\n",
        "\n",
        "# Using replace() method\n",
        "data['Status'] = data['Status'].replace(custom_mapping)\n",
        "\n",
        "data.head()"
      ]
    },
    {
      "cell_type": "code",
      "execution_count": 9,
      "metadata": {
        "colab": {
          "base_uri": "https://localhost:8080/",
          "height": 310
        },
        "id": "8THTZhR4sOw4",
        "outputId": "060fd005-b40d-4356-d6cd-82cf3fe19d02"
      },
      "outputs": [
        {
          "data": {
            "text/html": [
              "<div>\n",
              "<style scoped>\n",
              "    .dataframe tbody tr th:only-of-type {\n",
              "        vertical-align: middle;\n",
              "    }\n",
              "\n",
              "    .dataframe tbody tr th {\n",
              "        vertical-align: top;\n",
              "    }\n",
              "\n",
              "    .dataframe thead th {\n",
              "        text-align: right;\n",
              "    }\n",
              "</style>\n",
              "<table border=\"1\" class=\"dataframe\">\n",
              "  <thead>\n",
              "    <tr style=\"text-align: right;\">\n",
              "      <th></th>\n",
              "      <th>Title</th>\n",
              "      <th>Location</th>\n",
              "      <th>Number of employees</th>\n",
              "      <th>Industry Classification</th>\n",
              "      <th>compute_rev_num</th>\n",
              "      <th>Job function</th>\n",
              "      <th>Primary Industry</th>\n",
              "      <th>Number of loc</th>\n",
              "      <th>Business model</th>\n",
              "      <th>TextColumn</th>\n",
              "      <th>Status</th>\n",
              "    </tr>\n",
              "  </thead>\n",
              "  <tbody>\n",
              "    <tr>\n",
              "      <th>0</th>\n",
              "      <td>CEO</td>\n",
              "      <td>Asia</td>\n",
              "      <td>28</td>\n",
              "      <td>Product</td>\n",
              "      <td>420000</td>\n",
              "      <td>Executive Management</td>\n",
              "      <td>Software Development</td>\n",
              "      <td>3</td>\n",
              "      <td>1</td>\n",
              "      <td>a B2B social selling solutions provider, dedic...</td>\n",
              "      <td>0</td>\n",
              "    </tr>\n",
              "    <tr>\n",
              "      <th>1</th>\n",
              "      <td>CEO</td>\n",
              "      <td>Asia</td>\n",
              "      <td>17</td>\n",
              "      <td>Service</td>\n",
              "      <td>1122000</td>\n",
              "      <td>Executive Management</td>\n",
              "      <td>IT Services and Consulting</td>\n",
              "      <td>1</td>\n",
              "      <td>1</td>\n",
              "      <td>a blockchain infrastructure company, believes ...</td>\n",
              "      <td>1</td>\n",
              "    </tr>\n",
              "    <tr>\n",
              "      <th>2</th>\n",
              "      <td>CEO</td>\n",
              "      <td>East Europe</td>\n",
              "      <td>137</td>\n",
              "      <td>Service</td>\n",
              "      <td>12330000</td>\n",
              "      <td>Executive Management</td>\n",
              "      <td>IT Services and Consulting</td>\n",
              "      <td>1</td>\n",
              "      <td>1</td>\n",
              "      <td>providing professional IT services in developi...</td>\n",
              "      <td>1</td>\n",
              "    </tr>\n",
              "    <tr>\n",
              "      <th>3</th>\n",
              "      <td>CEO</td>\n",
              "      <td>West Europe</td>\n",
              "      <td>111</td>\n",
              "      <td>Service</td>\n",
              "      <td>15540000</td>\n",
              "      <td>Executive Management</td>\n",
              "      <td>Software Development</td>\n",
              "      <td>3</td>\n",
              "      <td>1</td>\n",
              "      <td>innovative, high performing and customer-centr...</td>\n",
              "      <td>0</td>\n",
              "    </tr>\n",
              "    <tr>\n",
              "      <th>4</th>\n",
              "      <td>CEO</td>\n",
              "      <td>West Europe</td>\n",
              "      <td>69</td>\n",
              "      <td>Service</td>\n",
              "      <td>9660000</td>\n",
              "      <td>Executive Management</td>\n",
              "      <td>IT Services and Consulting</td>\n",
              "      <td>1</td>\n",
              "      <td>1</td>\n",
              "      <td>we provide you with a team of two or more digi...</td>\n",
              "      <td>0</td>\n",
              "    </tr>\n",
              "  </tbody>\n",
              "</table>\n",
              "</div>"
            ],
            "text/plain": [
              "  Title     Location  Number of employees Industry Classification  \\\n",
              "0   CEO         Asia                   28                 Product   \n",
              "1   CEO         Asia                   17                 Service   \n",
              "2   CEO  East Europe                  137                 Service   \n",
              "3   CEO  West Europe                  111                 Service   \n",
              "4   CEO  West Europe                   69                 Service   \n",
              "\n",
              "   compute_rev_num          Job function            Primary Industry  \\\n",
              "0           420000  Executive Management        Software Development   \n",
              "1          1122000  Executive Management  IT Services and Consulting   \n",
              "2         12330000  Executive Management  IT Services and Consulting   \n",
              "3         15540000  Executive Management        Software Development   \n",
              "4          9660000  Executive Management  IT Services and Consulting   \n",
              "\n",
              "   Number of loc  Business model  \\\n",
              "0              3               1   \n",
              "1              1               1   \n",
              "2              1               1   \n",
              "3              3               1   \n",
              "4              1               1   \n",
              "\n",
              "                                          TextColumn  Status  \n",
              "0  a B2B social selling solutions provider, dedic...       0  \n",
              "1  a blockchain infrastructure company, believes ...       1  \n",
              "2  providing professional IT services in developi...       1  \n",
              "3  innovative, high performing and customer-centr...       0  \n",
              "4  we provide you with a team of two or more digi...       0  "
            ]
          },
          "execution_count": 9,
          "metadata": {},
          "output_type": "execute_result"
        }
      ],
      "source": [
        "custom_mapping = {\n",
        "    'B2B': 1,\n",
        "    'B2C': 0,\n",
        "}\n",
        "\n",
        "# Using map() function\n",
        "data['Business model'] = data['Business model'].map(custom_mapping)\n",
        "\n",
        "# Using replace() method\n",
        "data['Business model'] = data['Business model'].replace(custom_mapping)\n",
        "\n",
        "data.head()"
      ]
    },
    {
      "cell_type": "markdown",
      "metadata": {
        "id": "b6GzoUT51h5L"
      },
      "source": [
        "## One hot encoding of the Industry classification column"
      ]
    },
    {
      "cell_type": "code",
      "execution_count": 10,
      "metadata": {
        "colab": {
          "base_uri": "https://localhost:8080/",
          "height": 310
        },
        "id": "cIkXmPh5If7d",
        "outputId": "fa96e9e1-e2bb-47b6-d163-47a706890e74"
      },
      "outputs": [
        {
          "data": {
            "text/html": [
              "<div>\n",
              "<style scoped>\n",
              "    .dataframe tbody tr th:only-of-type {\n",
              "        vertical-align: middle;\n",
              "    }\n",
              "\n",
              "    .dataframe tbody tr th {\n",
              "        vertical-align: top;\n",
              "    }\n",
              "\n",
              "    .dataframe thead th {\n",
              "        text-align: right;\n",
              "    }\n",
              "</style>\n",
              "<table border=\"1\" class=\"dataframe\">\n",
              "  <thead>\n",
              "    <tr style=\"text-align: right;\">\n",
              "      <th></th>\n",
              "      <th>Title</th>\n",
              "      <th>Location</th>\n",
              "      <th>Number of employees</th>\n",
              "      <th>Industry Classification</th>\n",
              "      <th>compute_rev_num</th>\n",
              "      <th>Job function</th>\n",
              "      <th>Primary Industry</th>\n",
              "      <th>Number of loc</th>\n",
              "      <th>Business model</th>\n",
              "      <th>TextColumn</th>\n",
              "      <th>Status</th>\n",
              "    </tr>\n",
              "  </thead>\n",
              "  <tbody>\n",
              "    <tr>\n",
              "      <th>0</th>\n",
              "      <td>CEO</td>\n",
              "      <td>Asia</td>\n",
              "      <td>28</td>\n",
              "      <td>1</td>\n",
              "      <td>420000</td>\n",
              "      <td>Executive Management</td>\n",
              "      <td>Software Development</td>\n",
              "      <td>3</td>\n",
              "      <td>1</td>\n",
              "      <td>a B2B social selling solutions provider, dedic...</td>\n",
              "      <td>0</td>\n",
              "    </tr>\n",
              "    <tr>\n",
              "      <th>1</th>\n",
              "      <td>CEO</td>\n",
              "      <td>Asia</td>\n",
              "      <td>17</td>\n",
              "      <td>0</td>\n",
              "      <td>1122000</td>\n",
              "      <td>Executive Management</td>\n",
              "      <td>IT Services and Consulting</td>\n",
              "      <td>1</td>\n",
              "      <td>1</td>\n",
              "      <td>a blockchain infrastructure company, believes ...</td>\n",
              "      <td>1</td>\n",
              "    </tr>\n",
              "    <tr>\n",
              "      <th>2</th>\n",
              "      <td>CEO</td>\n",
              "      <td>East Europe</td>\n",
              "      <td>137</td>\n",
              "      <td>0</td>\n",
              "      <td>12330000</td>\n",
              "      <td>Executive Management</td>\n",
              "      <td>IT Services and Consulting</td>\n",
              "      <td>1</td>\n",
              "      <td>1</td>\n",
              "      <td>providing professional IT services in developi...</td>\n",
              "      <td>1</td>\n",
              "    </tr>\n",
              "    <tr>\n",
              "      <th>3</th>\n",
              "      <td>CEO</td>\n",
              "      <td>West Europe</td>\n",
              "      <td>111</td>\n",
              "      <td>0</td>\n",
              "      <td>15540000</td>\n",
              "      <td>Executive Management</td>\n",
              "      <td>Software Development</td>\n",
              "      <td>3</td>\n",
              "      <td>1</td>\n",
              "      <td>innovative, high performing and customer-centr...</td>\n",
              "      <td>0</td>\n",
              "    </tr>\n",
              "    <tr>\n",
              "      <th>4</th>\n",
              "      <td>CEO</td>\n",
              "      <td>West Europe</td>\n",
              "      <td>69</td>\n",
              "      <td>0</td>\n",
              "      <td>9660000</td>\n",
              "      <td>Executive Management</td>\n",
              "      <td>IT Services and Consulting</td>\n",
              "      <td>1</td>\n",
              "      <td>1</td>\n",
              "      <td>we provide you with a team of two or more digi...</td>\n",
              "      <td>0</td>\n",
              "    </tr>\n",
              "  </tbody>\n",
              "</table>\n",
              "</div>"
            ],
            "text/plain": [
              "  Title     Location  Number of employees  Industry Classification  \\\n",
              "0   CEO         Asia                   28                        1   \n",
              "1   CEO         Asia                   17                        0   \n",
              "2   CEO  East Europe                  137                        0   \n",
              "3   CEO  West Europe                  111                        0   \n",
              "4   CEO  West Europe                   69                        0   \n",
              "\n",
              "   compute_rev_num          Job function            Primary Industry  \\\n",
              "0           420000  Executive Management        Software Development   \n",
              "1          1122000  Executive Management  IT Services and Consulting   \n",
              "2         12330000  Executive Management  IT Services and Consulting   \n",
              "3         15540000  Executive Management        Software Development   \n",
              "4          9660000  Executive Management  IT Services and Consulting   \n",
              "\n",
              "   Number of loc  Business model  \\\n",
              "0              3               1   \n",
              "1              1               1   \n",
              "2              1               1   \n",
              "3              3               1   \n",
              "4              1               1   \n",
              "\n",
              "                                          TextColumn  Status  \n",
              "0  a B2B social selling solutions provider, dedic...       0  \n",
              "1  a blockchain infrastructure company, believes ...       1  \n",
              "2  providing professional IT services in developi...       1  \n",
              "3  innovative, high performing and customer-centr...       0  \n",
              "4  we provide you with a team of two or more digi...       0  "
            ]
          },
          "execution_count": 10,
          "metadata": {},
          "output_type": "execute_result"
        }
      ],
      "source": [
        "# One hot encoding of the 'Industry Classification' column\n",
        "\n",
        "custom_mapping = {\n",
        "    'Product': 1,\n",
        "    'Service': 0,\n",
        "}\n",
        "\n",
        "# Using map() function\n",
        "data['Industry Classification'] = data['Industry Classification'].map(custom_mapping)\n",
        "\n",
        "# Using replace() method\n",
        "data['Industry Classification'] = data['Industry Classification'].replace(custom_mapping)\n",
        "\n",
        "data.head()"
      ]
    },
    {
      "cell_type": "markdown",
      "metadata": {
        "id": "V0Z9WdK-1obZ"
      },
      "source": [
        "## Numerical encoding of the Location column"
      ]
    },
    {
      "cell_type": "code",
      "execution_count": 11,
      "metadata": {
        "colab": {
          "base_uri": "https://localhost:8080/",
          "height": 310
        },
        "id": "n-cSdjoTSYu5",
        "outputId": "20f2875b-10dc-40bc-a960-16ced781b82f"
      },
      "outputs": [
        {
          "data": {
            "text/html": [
              "<div>\n",
              "<style scoped>\n",
              "    .dataframe tbody tr th:only-of-type {\n",
              "        vertical-align: middle;\n",
              "    }\n",
              "\n",
              "    .dataframe tbody tr th {\n",
              "        vertical-align: top;\n",
              "    }\n",
              "\n",
              "    .dataframe thead th {\n",
              "        text-align: right;\n",
              "    }\n",
              "</style>\n",
              "<table border=\"1\" class=\"dataframe\">\n",
              "  <thead>\n",
              "    <tr style=\"text-align: right;\">\n",
              "      <th></th>\n",
              "      <th>Title</th>\n",
              "      <th>Location</th>\n",
              "      <th>Number of employees</th>\n",
              "      <th>Industry Classification</th>\n",
              "      <th>compute_rev_num</th>\n",
              "      <th>Job function</th>\n",
              "      <th>Primary Industry</th>\n",
              "      <th>Number of loc</th>\n",
              "      <th>Business model</th>\n",
              "      <th>TextColumn</th>\n",
              "      <th>Status</th>\n",
              "    </tr>\n",
              "  </thead>\n",
              "  <tbody>\n",
              "    <tr>\n",
              "      <th>0</th>\n",
              "      <td>CEO</td>\n",
              "      <td>2</td>\n",
              "      <td>28</td>\n",
              "      <td>1</td>\n",
              "      <td>420000</td>\n",
              "      <td>Executive Management</td>\n",
              "      <td>Software Development</td>\n",
              "      <td>3</td>\n",
              "      <td>1</td>\n",
              "      <td>a B2B social selling solutions provider, dedic...</td>\n",
              "      <td>0</td>\n",
              "    </tr>\n",
              "    <tr>\n",
              "      <th>1</th>\n",
              "      <td>CEO</td>\n",
              "      <td>2</td>\n",
              "      <td>17</td>\n",
              "      <td>0</td>\n",
              "      <td>1122000</td>\n",
              "      <td>Executive Management</td>\n",
              "      <td>IT Services and Consulting</td>\n",
              "      <td>1</td>\n",
              "      <td>1</td>\n",
              "      <td>a blockchain infrastructure company, believes ...</td>\n",
              "      <td>1</td>\n",
              "    </tr>\n",
              "    <tr>\n",
              "      <th>2</th>\n",
              "      <td>CEO</td>\n",
              "      <td>4</td>\n",
              "      <td>137</td>\n",
              "      <td>0</td>\n",
              "      <td>12330000</td>\n",
              "      <td>Executive Management</td>\n",
              "      <td>IT Services and Consulting</td>\n",
              "      <td>1</td>\n",
              "      <td>1</td>\n",
              "      <td>providing professional IT services in developi...</td>\n",
              "      <td>1</td>\n",
              "    </tr>\n",
              "    <tr>\n",
              "      <th>3</th>\n",
              "      <td>CEO</td>\n",
              "      <td>3</td>\n",
              "      <td>111</td>\n",
              "      <td>0</td>\n",
              "      <td>15540000</td>\n",
              "      <td>Executive Management</td>\n",
              "      <td>Software Development</td>\n",
              "      <td>3</td>\n",
              "      <td>1</td>\n",
              "      <td>innovative, high performing and customer-centr...</td>\n",
              "      <td>0</td>\n",
              "    </tr>\n",
              "    <tr>\n",
              "      <th>4</th>\n",
              "      <td>CEO</td>\n",
              "      <td>3</td>\n",
              "      <td>69</td>\n",
              "      <td>0</td>\n",
              "      <td>9660000</td>\n",
              "      <td>Executive Management</td>\n",
              "      <td>IT Services and Consulting</td>\n",
              "      <td>1</td>\n",
              "      <td>1</td>\n",
              "      <td>we provide you with a team of two or more digi...</td>\n",
              "      <td>0</td>\n",
              "    </tr>\n",
              "  </tbody>\n",
              "</table>\n",
              "</div>"
            ],
            "text/plain": [
              "  Title  Location  Number of employees  Industry Classification  \\\n",
              "0   CEO         2                   28                        1   \n",
              "1   CEO         2                   17                        0   \n",
              "2   CEO         4                  137                        0   \n",
              "3   CEO         3                  111                        0   \n",
              "4   CEO         3                   69                        0   \n",
              "\n",
              "   compute_rev_num          Job function            Primary Industry  \\\n",
              "0           420000  Executive Management        Software Development   \n",
              "1          1122000  Executive Management  IT Services and Consulting   \n",
              "2         12330000  Executive Management  IT Services and Consulting   \n",
              "3         15540000  Executive Management        Software Development   \n",
              "4          9660000  Executive Management  IT Services and Consulting   \n",
              "\n",
              "   Number of loc  Business model  \\\n",
              "0              3               1   \n",
              "1              1               1   \n",
              "2              1               1   \n",
              "3              3               1   \n",
              "4              1               1   \n",
              "\n",
              "                                          TextColumn  Status  \n",
              "0  a B2B social selling solutions provider, dedic...       0  \n",
              "1  a blockchain infrastructure company, believes ...       1  \n",
              "2  providing professional IT services in developi...       1  \n",
              "3  innovative, high performing and customer-centr...       0  \n",
              "4  we provide you with a team of two or more digi...       0  "
            ]
          },
          "execution_count": 11,
          "metadata": {},
          "output_type": "execute_result"
        }
      ],
      "source": [
        "# categorical encoding of the 'Location' column\n",
        "\n",
        "custom_mapping = {\n",
        "    'North America': 1,\n",
        "    'Asia': 2,\n",
        "    'West Europe': 3,\n",
        "    'East Europe': 4\n",
        "}\n",
        "\n",
        "# Using map() function\n",
        "data['Location'] = data['Location'].map(custom_mapping)\n",
        "\n",
        "# Using replace() method\n",
        "data['Location'] = data['Location'].replace(custom_mapping)\n",
        "\n",
        "data.head()"
      ]
    },
    {
      "cell_type": "code",
      "execution_count": 12,
      "metadata": {
        "colab": {
          "base_uri": "https://localhost:8080/",
          "height": 310
        },
        "id": "Ms0sQ3TCtPZ6",
        "outputId": "5e0f78cc-17c1-4ff3-82a8-bdcec652558f"
      },
      "outputs": [
        {
          "data": {
            "text/html": [
              "<div>\n",
              "<style scoped>\n",
              "    .dataframe tbody tr th:only-of-type {\n",
              "        vertical-align: middle;\n",
              "    }\n",
              "\n",
              "    .dataframe tbody tr th {\n",
              "        vertical-align: top;\n",
              "    }\n",
              "\n",
              "    .dataframe thead th {\n",
              "        text-align: right;\n",
              "    }\n",
              "</style>\n",
              "<table border=\"1\" class=\"dataframe\">\n",
              "  <thead>\n",
              "    <tr style=\"text-align: right;\">\n",
              "      <th></th>\n",
              "      <th>Title</th>\n",
              "      <th>Location</th>\n",
              "      <th>Number of employees</th>\n",
              "      <th>Industry Classification</th>\n",
              "      <th>compute_rev_num</th>\n",
              "      <th>Job function</th>\n",
              "      <th>Primary Industry</th>\n",
              "      <th>Number of loc</th>\n",
              "      <th>Business model</th>\n",
              "      <th>TextColumn</th>\n",
              "      <th>Status</th>\n",
              "    </tr>\n",
              "  </thead>\n",
              "  <tbody>\n",
              "    <tr>\n",
              "      <th>0</th>\n",
              "      <td>CEO</td>\n",
              "      <td>2</td>\n",
              "      <td>28</td>\n",
              "      <td>1</td>\n",
              "      <td>420000</td>\n",
              "      <td>Executive Management</td>\n",
              "      <td>1</td>\n",
              "      <td>3</td>\n",
              "      <td>1</td>\n",
              "      <td>a B2B social selling solutions provider, dedic...</td>\n",
              "      <td>0</td>\n",
              "    </tr>\n",
              "    <tr>\n",
              "      <th>1</th>\n",
              "      <td>CEO</td>\n",
              "      <td>2</td>\n",
              "      <td>17</td>\n",
              "      <td>0</td>\n",
              "      <td>1122000</td>\n",
              "      <td>Executive Management</td>\n",
              "      <td>2</td>\n",
              "      <td>1</td>\n",
              "      <td>1</td>\n",
              "      <td>a blockchain infrastructure company, believes ...</td>\n",
              "      <td>1</td>\n",
              "    </tr>\n",
              "    <tr>\n",
              "      <th>2</th>\n",
              "      <td>CEO</td>\n",
              "      <td>4</td>\n",
              "      <td>137</td>\n",
              "      <td>0</td>\n",
              "      <td>12330000</td>\n",
              "      <td>Executive Management</td>\n",
              "      <td>2</td>\n",
              "      <td>1</td>\n",
              "      <td>1</td>\n",
              "      <td>providing professional IT services in developi...</td>\n",
              "      <td>1</td>\n",
              "    </tr>\n",
              "    <tr>\n",
              "      <th>3</th>\n",
              "      <td>CEO</td>\n",
              "      <td>3</td>\n",
              "      <td>111</td>\n",
              "      <td>0</td>\n",
              "      <td>15540000</td>\n",
              "      <td>Executive Management</td>\n",
              "      <td>1</td>\n",
              "      <td>3</td>\n",
              "      <td>1</td>\n",
              "      <td>innovative, high performing and customer-centr...</td>\n",
              "      <td>0</td>\n",
              "    </tr>\n",
              "    <tr>\n",
              "      <th>4</th>\n",
              "      <td>CEO</td>\n",
              "      <td>3</td>\n",
              "      <td>69</td>\n",
              "      <td>0</td>\n",
              "      <td>9660000</td>\n",
              "      <td>Executive Management</td>\n",
              "      <td>2</td>\n",
              "      <td>1</td>\n",
              "      <td>1</td>\n",
              "      <td>we provide you with a team of two or more digi...</td>\n",
              "      <td>0</td>\n",
              "    </tr>\n",
              "  </tbody>\n",
              "</table>\n",
              "</div>"
            ],
            "text/plain": [
              "  Title  Location  Number of employees  Industry Classification  \\\n",
              "0   CEO         2                   28                        1   \n",
              "1   CEO         2                   17                        0   \n",
              "2   CEO         4                  137                        0   \n",
              "3   CEO         3                  111                        0   \n",
              "4   CEO         3                   69                        0   \n",
              "\n",
              "   compute_rev_num          Job function  Primary Industry  Number of loc  \\\n",
              "0           420000  Executive Management                 1              3   \n",
              "1          1122000  Executive Management                 2              1   \n",
              "2         12330000  Executive Management                 2              1   \n",
              "3         15540000  Executive Management                 1              3   \n",
              "4          9660000  Executive Management                 2              1   \n",
              "\n",
              "   Business model                                         TextColumn  Status  \n",
              "0               1  a B2B social selling solutions provider, dedic...       0  \n",
              "1               1  a blockchain infrastructure company, believes ...       1  \n",
              "2               1  providing professional IT services in developi...       1  \n",
              "3               1  innovative, high performing and customer-centr...       0  \n",
              "4               1  we provide you with a team of two or more digi...       0  "
            ]
          },
          "execution_count": 12,
          "metadata": {},
          "output_type": "execute_result"
        }
      ],
      "source": [
        "custom_mapping = {\n",
        "  'Software Development':1,\n",
        "\t'IT Services and Consulting':2,\n",
        "\t'Business Intelligence':3,\n",
        "\t'Civic and Social Organizations':4,\n",
        "\t'Data Infrastructure':5,\n",
        "\t'Cybersecurity':6,\n",
        "\t'Telecommunications':7,\n",
        "\t'Marketing Services':8,\n",
        "\t'Web3':9,\n",
        "\t'Embedded Software':10,\n",
        "\t'Finance':11\n",
        "\n",
        "}\n",
        "\n",
        "# Using map() function\n",
        "data['Primary Industry'] = data['Primary Industry'].map(custom_mapping)\n",
        "\n",
        "# Using replace() method\n",
        "data['Primary Industry'] = data['Primary Industry'].replace(custom_mapping)\n",
        "\n",
        "data.head()"
      ]
    },
    {
      "cell_type": "markdown",
      "metadata": {
        "id": "z2nFjx0n1sp9"
      },
      "source": [
        "## Numercial encoding of the title column"
      ]
    },
    {
      "cell_type": "code",
      "execution_count": 13,
      "metadata": {
        "colab": {
          "base_uri": "https://localhost:8080/",
          "height": 310
        },
        "id": "n3p_7B37Sskt",
        "outputId": "656d5367-cdb7-4503-9d4c-ba09759df477"
      },
      "outputs": [
        {
          "data": {
            "text/html": [
              "<div>\n",
              "<style scoped>\n",
              "    .dataframe tbody tr th:only-of-type {\n",
              "        vertical-align: middle;\n",
              "    }\n",
              "\n",
              "    .dataframe tbody tr th {\n",
              "        vertical-align: top;\n",
              "    }\n",
              "\n",
              "    .dataframe thead th {\n",
              "        text-align: right;\n",
              "    }\n",
              "</style>\n",
              "<table border=\"1\" class=\"dataframe\">\n",
              "  <thead>\n",
              "    <tr style=\"text-align: right;\">\n",
              "      <th></th>\n",
              "      <th>Title</th>\n",
              "      <th>Location</th>\n",
              "      <th>Number of employees</th>\n",
              "      <th>Industry Classification</th>\n",
              "      <th>compute_rev_num</th>\n",
              "      <th>Job function</th>\n",
              "      <th>Primary Industry</th>\n",
              "      <th>Number of loc</th>\n",
              "      <th>Business model</th>\n",
              "      <th>TextColumn</th>\n",
              "      <th>Status</th>\n",
              "    </tr>\n",
              "  </thead>\n",
              "  <tbody>\n",
              "    <tr>\n",
              "      <th>0</th>\n",
              "      <td>1</td>\n",
              "      <td>2</td>\n",
              "      <td>28</td>\n",
              "      <td>1</td>\n",
              "      <td>420000</td>\n",
              "      <td>Executive Management</td>\n",
              "      <td>1</td>\n",
              "      <td>3</td>\n",
              "      <td>1</td>\n",
              "      <td>a B2B social selling solutions provider, dedic...</td>\n",
              "      <td>0</td>\n",
              "    </tr>\n",
              "    <tr>\n",
              "      <th>1</th>\n",
              "      <td>1</td>\n",
              "      <td>2</td>\n",
              "      <td>17</td>\n",
              "      <td>0</td>\n",
              "      <td>1122000</td>\n",
              "      <td>Executive Management</td>\n",
              "      <td>2</td>\n",
              "      <td>1</td>\n",
              "      <td>1</td>\n",
              "      <td>a blockchain infrastructure company, believes ...</td>\n",
              "      <td>1</td>\n",
              "    </tr>\n",
              "    <tr>\n",
              "      <th>2</th>\n",
              "      <td>1</td>\n",
              "      <td>4</td>\n",
              "      <td>137</td>\n",
              "      <td>0</td>\n",
              "      <td>12330000</td>\n",
              "      <td>Executive Management</td>\n",
              "      <td>2</td>\n",
              "      <td>1</td>\n",
              "      <td>1</td>\n",
              "      <td>providing professional IT services in developi...</td>\n",
              "      <td>1</td>\n",
              "    </tr>\n",
              "    <tr>\n",
              "      <th>3</th>\n",
              "      <td>1</td>\n",
              "      <td>3</td>\n",
              "      <td>111</td>\n",
              "      <td>0</td>\n",
              "      <td>15540000</td>\n",
              "      <td>Executive Management</td>\n",
              "      <td>1</td>\n",
              "      <td>3</td>\n",
              "      <td>1</td>\n",
              "      <td>innovative, high performing and customer-centr...</td>\n",
              "      <td>0</td>\n",
              "    </tr>\n",
              "    <tr>\n",
              "      <th>4</th>\n",
              "      <td>1</td>\n",
              "      <td>3</td>\n",
              "      <td>69</td>\n",
              "      <td>0</td>\n",
              "      <td>9660000</td>\n",
              "      <td>Executive Management</td>\n",
              "      <td>2</td>\n",
              "      <td>1</td>\n",
              "      <td>1</td>\n",
              "      <td>we provide you with a team of two or more digi...</td>\n",
              "      <td>0</td>\n",
              "    </tr>\n",
              "  </tbody>\n",
              "</table>\n",
              "</div>"
            ],
            "text/plain": [
              "   Title  Location  Number of employees  Industry Classification  \\\n",
              "0      1         2                   28                        1   \n",
              "1      1         2                   17                        0   \n",
              "2      1         4                  137                        0   \n",
              "3      1         3                  111                        0   \n",
              "4      1         3                   69                        0   \n",
              "\n",
              "   compute_rev_num          Job function  Primary Industry  Number of loc  \\\n",
              "0           420000  Executive Management                 1              3   \n",
              "1          1122000  Executive Management                 2              1   \n",
              "2         12330000  Executive Management                 2              1   \n",
              "3         15540000  Executive Management                 1              3   \n",
              "4          9660000  Executive Management                 2              1   \n",
              "\n",
              "   Business model                                         TextColumn  Status  \n",
              "0               1  a B2B social selling solutions provider, dedic...       0  \n",
              "1               1  a blockchain infrastructure company, believes ...       1  \n",
              "2               1  providing professional IT services in developi...       1  \n",
              "3               1  innovative, high performing and customer-centr...       0  \n",
              "4               1  we provide you with a team of two or more digi...       0  "
            ]
          },
          "execution_count": 13,
          "metadata": {},
          "output_type": "execute_result"
        }
      ],
      "source": [
        "# categorical encoding of the 'Title' column\n",
        "\n",
        "custom_mapping = {\n",
        "    'CEO': 1,\n",
        "    'Founder': 2,\n",
        "    'Co-Founder': 3,\n",
        "    'CRO/CSO': 4,\n",
        "    'Non Exec/Op Exec': 5,\n",
        "    'Operations Exec': 5,\n",
        "\n",
        "}\n",
        "\n",
        "# Using map() function\n",
        "data['Title'] = data['Title'].map(custom_mapping)\n",
        "\n",
        "# Using replace() method\n",
        "data['Title'] = data['Title'].replace(custom_mapping)\n",
        "\n",
        "data.head()"
      ]
    },
    {
      "cell_type": "code",
      "execution_count": 14,
      "metadata": {
        "id": "6fMDyQZ6n4Nt"
      },
      "outputs": [],
      "source": [
        "data.drop(columns='Job function', inplace=True)"
      ]
    },
    {
      "cell_type": "code",
      "execution_count": 15,
      "metadata": {
        "colab": {
          "base_uri": "https://localhost:8080/"
        },
        "id": "bTOcS0Y0RoD_",
        "outputId": "14bb837a-dfe3-4bb3-e903-f2a70b2ef89d"
      },
      "outputs": [
        {
          "data": {
            "text/plain": [
              "Index(['Title', 'Location', 'Number of employees', 'Industry Classification',\n",
              "       'compute_rev_num', 'Primary Industry', 'Number of loc',\n",
              "       'Business model', 'TextColumn', 'Status'],\n",
              "      dtype='object')"
            ]
          },
          "execution_count": 15,
          "metadata": {},
          "output_type": "execute_result"
        }
      ],
      "source": [
        "data.columns"
      ]
    },
    {
      "cell_type": "markdown",
      "metadata": {
        "id": "czJ5aQIw2Eo1"
      },
      "source": [
        "## Numerical encoding and binning of the variable column(employees)"
      ]
    },
    {
      "cell_type": "code",
      "execution_count": 16,
      "metadata": {
        "colab": {
          "base_uri": "https://localhost:8080/",
          "height": 310
        },
        "id": "85zuoYJ1oqnG",
        "outputId": "b23d48ed-e9e0-4665-ed3d-1e735cb8cd72"
      },
      "outputs": [
        {
          "data": {
            "text/html": [
              "<div>\n",
              "<style scoped>\n",
              "    .dataframe tbody tr th:only-of-type {\n",
              "        vertical-align: middle;\n",
              "    }\n",
              "\n",
              "    .dataframe tbody tr th {\n",
              "        vertical-align: top;\n",
              "    }\n",
              "\n",
              "    .dataframe thead th {\n",
              "        text-align: right;\n",
              "    }\n",
              "</style>\n",
              "<table border=\"1\" class=\"dataframe\">\n",
              "  <thead>\n",
              "    <tr style=\"text-align: right;\">\n",
              "      <th></th>\n",
              "      <th>Title</th>\n",
              "      <th>Location</th>\n",
              "      <th>Number of employees</th>\n",
              "      <th>Industry Classification</th>\n",
              "      <th>compute_rev_num</th>\n",
              "      <th>Primary Industry</th>\n",
              "      <th>Number of loc</th>\n",
              "      <th>Business model</th>\n",
              "      <th>TextColumn</th>\n",
              "      <th>Status</th>\n",
              "    </tr>\n",
              "  </thead>\n",
              "  <tbody>\n",
              "    <tr>\n",
              "      <th>0</th>\n",
              "      <td>1</td>\n",
              "      <td>2</td>\n",
              "      <td>1</td>\n",
              "      <td>1</td>\n",
              "      <td>420000</td>\n",
              "      <td>1</td>\n",
              "      <td>3</td>\n",
              "      <td>1</td>\n",
              "      <td>a B2B social selling solutions provider, dedic...</td>\n",
              "      <td>0</td>\n",
              "    </tr>\n",
              "    <tr>\n",
              "      <th>1</th>\n",
              "      <td>1</td>\n",
              "      <td>2</td>\n",
              "      <td>1</td>\n",
              "      <td>0</td>\n",
              "      <td>1122000</td>\n",
              "      <td>2</td>\n",
              "      <td>1</td>\n",
              "      <td>1</td>\n",
              "      <td>a blockchain infrastructure company, believes ...</td>\n",
              "      <td>1</td>\n",
              "    </tr>\n",
              "    <tr>\n",
              "      <th>2</th>\n",
              "      <td>1</td>\n",
              "      <td>4</td>\n",
              "      <td>4</td>\n",
              "      <td>0</td>\n",
              "      <td>12330000</td>\n",
              "      <td>2</td>\n",
              "      <td>1</td>\n",
              "      <td>1</td>\n",
              "      <td>providing professional IT services in developi...</td>\n",
              "      <td>1</td>\n",
              "    </tr>\n",
              "    <tr>\n",
              "      <th>3</th>\n",
              "      <td>1</td>\n",
              "      <td>3</td>\n",
              "      <td>4</td>\n",
              "      <td>0</td>\n",
              "      <td>15540000</td>\n",
              "      <td>1</td>\n",
              "      <td>3</td>\n",
              "      <td>1</td>\n",
              "      <td>innovative, high performing and customer-centr...</td>\n",
              "      <td>0</td>\n",
              "    </tr>\n",
              "    <tr>\n",
              "      <th>4</th>\n",
              "      <td>1</td>\n",
              "      <td>3</td>\n",
              "      <td>3</td>\n",
              "      <td>0</td>\n",
              "      <td>9660000</td>\n",
              "      <td>2</td>\n",
              "      <td>1</td>\n",
              "      <td>1</td>\n",
              "      <td>we provide you with a team of two or more digi...</td>\n",
              "      <td>0</td>\n",
              "    </tr>\n",
              "  </tbody>\n",
              "</table>\n",
              "</div>"
            ],
            "text/plain": [
              "   Title  Location Number of employees  Industry Classification  \\\n",
              "0      1         2                   1                        1   \n",
              "1      1         2                   1                        0   \n",
              "2      1         4                   4                        0   \n",
              "3      1         3                   4                        0   \n",
              "4      1         3                   3                        0   \n",
              "\n",
              "   compute_rev_num  Primary Industry  Number of loc  Business model  \\\n",
              "0           420000                 1              3               1   \n",
              "1          1122000                 2              1               1   \n",
              "2         12330000                 2              1               1   \n",
              "3         15540000                 1              3               1   \n",
              "4          9660000                 2              1               1   \n",
              "\n",
              "                                          TextColumn  Status  \n",
              "0  a B2B social selling solutions provider, dedic...       0  \n",
              "1  a blockchain infrastructure company, believes ...       1  \n",
              "2  providing professional IT services in developi...       1  \n",
              "3  innovative, high performing and customer-centr...       0  \n",
              "4  we provide you with a team of two or more digi...       0  "
            ]
          },
          "execution_count": 16,
          "metadata": {},
          "output_type": "execute_result"
        }
      ],
      "source": [
        "#binning of the number of employees\n",
        "\n",
        "import pandas as pd\n",
        "\n",
        "emp = data['Number of employees']\n",
        "\n",
        "# Define the bin edges\n",
        "bin_edges = [1, 40, 50, 100, 5000]\n",
        "\n",
        "data['Number of employees'] = pd.cut(data['Number of employees'], bins=bin_edges, labels=[1,2,3,4])\n",
        "\n",
        "data.head()"
      ]
    },
    {
      "cell_type": "code",
      "execution_count": 17,
      "metadata": {
        "colab": {
          "base_uri": "https://localhost:8080/",
          "height": 310
        },
        "id": "0vJ3ZGkDU4ni",
        "outputId": "e3432616-cf7c-4922-bad8-6012c0b8051d"
      },
      "outputs": [
        {
          "data": {
            "text/html": [
              "<div>\n",
              "<style scoped>\n",
              "    .dataframe tbody tr th:only-of-type {\n",
              "        vertical-align: middle;\n",
              "    }\n",
              "\n",
              "    .dataframe tbody tr th {\n",
              "        vertical-align: top;\n",
              "    }\n",
              "\n",
              "    .dataframe thead th {\n",
              "        text-align: right;\n",
              "    }\n",
              "</style>\n",
              "<table border=\"1\" class=\"dataframe\">\n",
              "  <thead>\n",
              "    <tr style=\"text-align: right;\">\n",
              "      <th></th>\n",
              "      <th>Title</th>\n",
              "      <th>Location</th>\n",
              "      <th>Number of employees</th>\n",
              "      <th>Industry Classification</th>\n",
              "      <th>compute_rev_num</th>\n",
              "      <th>Primary Industry</th>\n",
              "      <th>Number of loc</th>\n",
              "      <th>Business model</th>\n",
              "      <th>TextColumn</th>\n",
              "      <th>Status</th>\n",
              "    </tr>\n",
              "  </thead>\n",
              "  <tbody>\n",
              "    <tr>\n",
              "      <th>0</th>\n",
              "      <td>1</td>\n",
              "      <td>2</td>\n",
              "      <td>1</td>\n",
              "      <td>1</td>\n",
              "      <td>1</td>\n",
              "      <td>1</td>\n",
              "      <td>3</td>\n",
              "      <td>1</td>\n",
              "      <td>a B2B social selling solutions provider, dedic...</td>\n",
              "      <td>0</td>\n",
              "    </tr>\n",
              "    <tr>\n",
              "      <th>1</th>\n",
              "      <td>1</td>\n",
              "      <td>2</td>\n",
              "      <td>1</td>\n",
              "      <td>0</td>\n",
              "      <td>1</td>\n",
              "      <td>2</td>\n",
              "      <td>1</td>\n",
              "      <td>1</td>\n",
              "      <td>a blockchain infrastructure company, believes ...</td>\n",
              "      <td>1</td>\n",
              "    </tr>\n",
              "    <tr>\n",
              "      <th>2</th>\n",
              "      <td>1</td>\n",
              "      <td>4</td>\n",
              "      <td>4</td>\n",
              "      <td>0</td>\n",
              "      <td>3</td>\n",
              "      <td>2</td>\n",
              "      <td>1</td>\n",
              "      <td>1</td>\n",
              "      <td>providing professional IT services in developi...</td>\n",
              "      <td>1</td>\n",
              "    </tr>\n",
              "    <tr>\n",
              "      <th>3</th>\n",
              "      <td>1</td>\n",
              "      <td>3</td>\n",
              "      <td>4</td>\n",
              "      <td>0</td>\n",
              "      <td>3</td>\n",
              "      <td>1</td>\n",
              "      <td>3</td>\n",
              "      <td>1</td>\n",
              "      <td>innovative, high performing and customer-centr...</td>\n",
              "      <td>0</td>\n",
              "    </tr>\n",
              "    <tr>\n",
              "      <th>4</th>\n",
              "      <td>1</td>\n",
              "      <td>3</td>\n",
              "      <td>3</td>\n",
              "      <td>0</td>\n",
              "      <td>2</td>\n",
              "      <td>2</td>\n",
              "      <td>1</td>\n",
              "      <td>1</td>\n",
              "      <td>we provide you with a team of two or more digi...</td>\n",
              "      <td>0</td>\n",
              "    </tr>\n",
              "  </tbody>\n",
              "</table>\n",
              "</div>"
            ],
            "text/plain": [
              "   Title  Location Number of employees  Industry Classification  \\\n",
              "0      1         2                   1                        1   \n",
              "1      1         2                   1                        0   \n",
              "2      1         4                   4                        0   \n",
              "3      1         3                   4                        0   \n",
              "4      1         3                   3                        0   \n",
              "\n",
              "  compute_rev_num  Primary Industry  Number of loc  Business model  \\\n",
              "0               1                 1              3               1   \n",
              "1               1                 2              1               1   \n",
              "2               3                 2              1               1   \n",
              "3               3                 1              3               1   \n",
              "4               2                 2              1               1   \n",
              "\n",
              "                                          TextColumn  Status  \n",
              "0  a B2B social selling solutions provider, dedic...       0  \n",
              "1  a blockchain infrastructure company, believes ...       1  \n",
              "2  providing professional IT services in developi...       1  \n",
              "3  innovative, high performing and customer-centr...       0  \n",
              "4  we provide you with a team of two or more digi...       0  "
            ]
          },
          "execution_count": 17,
          "metadata": {},
          "output_type": "execute_result"
        }
      ],
      "source": [
        "import pandas as pd\n",
        "\n",
        "# emp = data['bins']\n",
        "\n",
        "# Define the bin edges\n",
        "bin_edges = [50000, 5000000, 10000000, 25000000, 50000000, 1000000000]\n",
        "\n",
        "# Perform binning using cut() and create a new column 'Bins'\n",
        "data['compute_rev_num'] = pd.cut(data['compute_rev_num'], bins=bin_edges, labels=[1,2,3,4,5])\n",
        "\n",
        "data.head()"
      ]
    },
    {
      "cell_type": "code",
      "execution_count": 18,
      "metadata": {
        "colab": {
          "base_uri": "https://localhost:8080/"
        },
        "id": "qOgvv8a4Y-bu",
        "outputId": "61bb121c-9855-4db2-cf8d-5d940f62333f"
      },
      "outputs": [
        {
          "data": {
            "text/plain": [
              "Title                         int64\n",
              "Location                      int64\n",
              "Number of employees        category\n",
              "Industry Classification       int64\n",
              "compute_rev_num            category\n",
              "Primary Industry              int64\n",
              "Number of loc                 int64\n",
              "Business model                int64\n",
              "TextColumn                   object\n",
              "Status                        int64\n",
              "dtype: object"
            ]
          },
          "execution_count": 18,
          "metadata": {},
          "output_type": "execute_result"
        }
      ],
      "source": [
        "data.dtypes"
      ]
    },
    {
      "cell_type": "code",
      "execution_count": 19,
      "metadata": {
        "id": "5jQiuxq4dxEf"
      },
      "outputs": [],
      "source": [
        "data['Title'] = data['Title'].astype('float')\n",
        "data['Number of employees'] = data['Number of employees'].astype('float')\n",
        "data['compute_rev_num'] = data['compute_rev_num'].astype('float')\n",
        "data['Business model'] = data['Business model'].astype('float')\n",
        "data['Primary Industry'] = data['Primary Industry'].astype('float')\n",
        "\n",
        "data['Location'] = data['Location'].astype('float')\n",
        "data['Industry Classification'] = data['Industry Classification'].astype('float')\n",
        "data['Number of loc'] = data['Number of loc'].astype('float')\n",
        "\n",
        "data['Status'] = data['Status'].astype('float')\n"
      ]
    },
    {
      "cell_type": "code",
      "execution_count": 20,
      "metadata": {
        "colab": {
          "base_uri": "https://localhost:8080/"
        },
        "id": "Mj98_jw70eWx",
        "outputId": "5197d972-b3cd-44ec-a734-c5fd2df765e3"
      },
      "outputs": [
        {
          "data": {
            "text/plain": [
              "Title                      float64\n",
              "Location                   float64\n",
              "Number of employees        float64\n",
              "Industry Classification    float64\n",
              "compute_rev_num            float64\n",
              "Primary Industry           float64\n",
              "Number of loc              float64\n",
              "Business model             float64\n",
              "TextColumn                  object\n",
              "Status                     float64\n",
              "dtype: object"
            ]
          },
          "execution_count": 20,
          "metadata": {},
          "output_type": "execute_result"
        }
      ],
      "source": [
        "data.dtypes"
      ]
    },
    {
      "cell_type": "code",
      "execution_count": 21,
      "metadata": {
        "colab": {
          "base_uri": "https://localhost:8080/",
          "height": 310
        },
        "id": "DiOqoyOTeFtP",
        "outputId": "4d3f01fd-77c8-4f6b-b40a-4e0945ed29e4"
      },
      "outputs": [
        {
          "data": {
            "text/html": [
              "<div>\n",
              "<style scoped>\n",
              "    .dataframe tbody tr th:only-of-type {\n",
              "        vertical-align: middle;\n",
              "    }\n",
              "\n",
              "    .dataframe tbody tr th {\n",
              "        vertical-align: top;\n",
              "    }\n",
              "\n",
              "    .dataframe thead th {\n",
              "        text-align: right;\n",
              "    }\n",
              "</style>\n",
              "<table border=\"1\" class=\"dataframe\">\n",
              "  <thead>\n",
              "    <tr style=\"text-align: right;\">\n",
              "      <th></th>\n",
              "      <th>Title</th>\n",
              "      <th>Location</th>\n",
              "      <th>Number of employees</th>\n",
              "      <th>Industry Classification</th>\n",
              "      <th>compute_rev_num</th>\n",
              "      <th>Primary Industry</th>\n",
              "      <th>Number of loc</th>\n",
              "      <th>Business model</th>\n",
              "      <th>TextColumn</th>\n",
              "      <th>Status</th>\n",
              "    </tr>\n",
              "  </thead>\n",
              "  <tbody>\n",
              "    <tr>\n",
              "      <th>0</th>\n",
              "      <td>1.0</td>\n",
              "      <td>2.0</td>\n",
              "      <td>1.0</td>\n",
              "      <td>1.0</td>\n",
              "      <td>1.0</td>\n",
              "      <td>1.0</td>\n",
              "      <td>3.0</td>\n",
              "      <td>1.0</td>\n",
              "      <td>a B2B social selling solutions provider, dedic...</td>\n",
              "      <td>0.0</td>\n",
              "    </tr>\n",
              "    <tr>\n",
              "      <th>1</th>\n",
              "      <td>1.0</td>\n",
              "      <td>2.0</td>\n",
              "      <td>1.0</td>\n",
              "      <td>0.0</td>\n",
              "      <td>1.0</td>\n",
              "      <td>2.0</td>\n",
              "      <td>1.0</td>\n",
              "      <td>1.0</td>\n",
              "      <td>a blockchain infrastructure company, believes ...</td>\n",
              "      <td>1.0</td>\n",
              "    </tr>\n",
              "    <tr>\n",
              "      <th>2</th>\n",
              "      <td>1.0</td>\n",
              "      <td>4.0</td>\n",
              "      <td>4.0</td>\n",
              "      <td>0.0</td>\n",
              "      <td>3.0</td>\n",
              "      <td>2.0</td>\n",
              "      <td>1.0</td>\n",
              "      <td>1.0</td>\n",
              "      <td>providing professional IT services in developi...</td>\n",
              "      <td>1.0</td>\n",
              "    </tr>\n",
              "    <tr>\n",
              "      <th>3</th>\n",
              "      <td>1.0</td>\n",
              "      <td>3.0</td>\n",
              "      <td>4.0</td>\n",
              "      <td>0.0</td>\n",
              "      <td>3.0</td>\n",
              "      <td>1.0</td>\n",
              "      <td>3.0</td>\n",
              "      <td>1.0</td>\n",
              "      <td>innovative, high performing and customer-centr...</td>\n",
              "      <td>0.0</td>\n",
              "    </tr>\n",
              "    <tr>\n",
              "      <th>4</th>\n",
              "      <td>1.0</td>\n",
              "      <td>3.0</td>\n",
              "      <td>3.0</td>\n",
              "      <td>0.0</td>\n",
              "      <td>2.0</td>\n",
              "      <td>2.0</td>\n",
              "      <td>1.0</td>\n",
              "      <td>1.0</td>\n",
              "      <td>we provide you with a team of two or more digi...</td>\n",
              "      <td>0.0</td>\n",
              "    </tr>\n",
              "  </tbody>\n",
              "</table>\n",
              "</div>"
            ],
            "text/plain": [
              "   Title  Location  Number of employees  Industry Classification  \\\n",
              "0    1.0       2.0                  1.0                      1.0   \n",
              "1    1.0       2.0                  1.0                      0.0   \n",
              "2    1.0       4.0                  4.0                      0.0   \n",
              "3    1.0       3.0                  4.0                      0.0   \n",
              "4    1.0       3.0                  3.0                      0.0   \n",
              "\n",
              "   compute_rev_num  Primary Industry  Number of loc  Business model  \\\n",
              "0              1.0               1.0            3.0             1.0   \n",
              "1              1.0               2.0            1.0             1.0   \n",
              "2              3.0               2.0            1.0             1.0   \n",
              "3              3.0               1.0            3.0             1.0   \n",
              "4              2.0               2.0            1.0             1.0   \n",
              "\n",
              "                                          TextColumn  Status  \n",
              "0  a B2B social selling solutions provider, dedic...     0.0  \n",
              "1  a blockchain infrastructure company, believes ...     1.0  \n",
              "2  providing professional IT services in developi...     1.0  \n",
              "3  innovative, high performing and customer-centr...     0.0  \n",
              "4  we provide you with a team of two or more digi...     0.0  "
            ]
          },
          "execution_count": 21,
          "metadata": {},
          "output_type": "execute_result"
        }
      ],
      "source": [
        "data.head()"
      ]
    },
    {
      "cell_type": "code",
      "execution_count": 22,
      "metadata": {
        "colab": {
          "base_uri": "https://localhost:8080/",
          "height": 310
        },
        "id": "Ljs7ky-glEoz",
        "outputId": "80bb3e15-47e7-4d99-b9e2-4faeba819c40"
      },
      "outputs": [
        {
          "data": {
            "text/html": [
              "<div>\n",
              "<style scoped>\n",
              "    .dataframe tbody tr th:only-of-type {\n",
              "        vertical-align: middle;\n",
              "    }\n",
              "\n",
              "    .dataframe tbody tr th {\n",
              "        vertical-align: top;\n",
              "    }\n",
              "\n",
              "    .dataframe thead th {\n",
              "        text-align: right;\n",
              "    }\n",
              "</style>\n",
              "<table border=\"1\" class=\"dataframe\">\n",
              "  <thead>\n",
              "    <tr style=\"text-align: right;\">\n",
              "      <th></th>\n",
              "      <th>Title</th>\n",
              "      <th>Location</th>\n",
              "      <th>Number of employees</th>\n",
              "      <th>Industry Classification</th>\n",
              "      <th>compute_rev_num</th>\n",
              "      <th>Primary Industry</th>\n",
              "      <th>Number of loc</th>\n",
              "      <th>Business model</th>\n",
              "      <th>TextColumn</th>\n",
              "      <th>Status</th>\n",
              "    </tr>\n",
              "  </thead>\n",
              "  <tbody>\n",
              "    <tr>\n",
              "      <th>552</th>\n",
              "      <td>2.0</td>\n",
              "      <td>3.0</td>\n",
              "      <td>4.0</td>\n",
              "      <td>0.0</td>\n",
              "      <td>3.0</td>\n",
              "      <td>1.0</td>\n",
              "      <td>4.0</td>\n",
              "      <td>1.0</td>\n",
              "      <td>the leading provider and most widely deployed ...</td>\n",
              "      <td>0.0</td>\n",
              "    </tr>\n",
              "    <tr>\n",
              "      <th>553</th>\n",
              "      <td>1.0</td>\n",
              "      <td>3.0</td>\n",
              "      <td>4.0</td>\n",
              "      <td>0.0</td>\n",
              "      <td>4.0</td>\n",
              "      <td>2.0</td>\n",
              "      <td>2.0</td>\n",
              "      <td>1.0</td>\n",
              "      <td>the UK’s most accredited, pureplay, Microsoft ...</td>\n",
              "      <td>0.0</td>\n",
              "    </tr>\n",
              "    <tr>\n",
              "      <th>554</th>\n",
              "      <td>1.0</td>\n",
              "      <td>3.0</td>\n",
              "      <td>3.0</td>\n",
              "      <td>0.0</td>\n",
              "      <td>3.0</td>\n",
              "      <td>2.0</td>\n",
              "      <td>2.0</td>\n",
              "      <td>1.0</td>\n",
              "      <td>forefront of innovation, Opportunity has been ...</td>\n",
              "      <td>1.0</td>\n",
              "    </tr>\n",
              "    <tr>\n",
              "      <th>555</th>\n",
              "      <td>3.0</td>\n",
              "      <td>3.0</td>\n",
              "      <td>3.0</td>\n",
              "      <td>0.0</td>\n",
              "      <td>3.0</td>\n",
              "      <td>1.0</td>\n",
              "      <td>2.0</td>\n",
              "      <td>1.0</td>\n",
              "      <td>the specialty coffee industry's #1 software so...</td>\n",
              "      <td>0.0</td>\n",
              "    </tr>\n",
              "    <tr>\n",
              "      <th>556</th>\n",
              "      <td>1.0</td>\n",
              "      <td>3.0</td>\n",
              "      <td>4.0</td>\n",
              "      <td>0.0</td>\n",
              "      <td>4.0</td>\n",
              "      <td>2.0</td>\n",
              "      <td>1.0</td>\n",
              "      <td>1.0</td>\n",
              "      <td>a trusted IT Services company that supports gr...</td>\n",
              "      <td>0.0</td>\n",
              "    </tr>\n",
              "  </tbody>\n",
              "</table>\n",
              "</div>"
            ],
            "text/plain": [
              "     Title  Location  Number of employees  Industry Classification  \\\n",
              "552    2.0       3.0                  4.0                      0.0   \n",
              "553    1.0       3.0                  4.0                      0.0   \n",
              "554    1.0       3.0                  3.0                      0.0   \n",
              "555    3.0       3.0                  3.0                      0.0   \n",
              "556    1.0       3.0                  4.0                      0.0   \n",
              "\n",
              "     compute_rev_num  Primary Industry  Number of loc  Business model  \\\n",
              "552              3.0               1.0            4.0             1.0   \n",
              "553              4.0               2.0            2.0             1.0   \n",
              "554              3.0               2.0            2.0             1.0   \n",
              "555              3.0               1.0            2.0             1.0   \n",
              "556              4.0               2.0            1.0             1.0   \n",
              "\n",
              "                                            TextColumn  Status  \n",
              "552  the leading provider and most widely deployed ...     0.0  \n",
              "553  the UK’s most accredited, pureplay, Microsoft ...     0.0  \n",
              "554  forefront of innovation, Opportunity has been ...     1.0  \n",
              "555  the specialty coffee industry's #1 software so...     0.0  \n",
              "556  a trusted IT Services company that supports gr...     0.0  "
            ]
          },
          "execution_count": 22,
          "metadata": {},
          "output_type": "execute_result"
        }
      ],
      "source": [
        "# data.to_csv('test.csv')\n",
        "data.tail()"
      ]
    },
    {
      "cell_type": "markdown",
      "metadata": {
        "id": "xc0rm9rng1LF"
      },
      "source": [
        "## MODEL BUILDING"
      ]
    },
    {
      "cell_type": "code",
      "execution_count": 23,
      "metadata": {
        "id": "r-4ISkfwg02O"
      },
      "outputs": [],
      "source": [
        "from sklearn.model_selection import train_test_split\n",
        "from sklearn.linear_model import LogisticRegression\n",
        "from sklearn.metrics import accuracy_score, classification_report, confusion_matrix"
      ]
    },
    {
      "cell_type": "code",
      "execution_count": 31,
      "metadata": {
        "id": "iJpDFWwfehIr"
      },
      "outputs": [],
      "source": [
        "X = np.array(data[['Title', 'Location', 'Number of employees', 'Industry Classification', 'compute_rev_num', 'Primary Industry','Number of loc','Business model','cluster']])\n",
        "y = np.array(data['Status'])"
      ]
    },
    {
      "cell_type": "code",
      "execution_count": 32,
      "metadata": {
        "id": "C_LANZUtglfc"
      },
      "outputs": [],
      "source": [
        "X_train, X_test, y_train, y_test = train_test_split(X, y, test_size=0.2, random_state=42)"
      ]
    },
    {
      "cell_type": "code",
      "execution_count": 33,
      "metadata": {
        "colab": {
          "base_uri": "https://localhost:8080/"
        },
        "id": "UP3AWk08hTog",
        "outputId": "6704c014-12bd-418d-a7ea-0b2c57cb5aca"
      },
      "outputs": [
        {
          "name": "stdout",
          "output_type": "stream",
          "text": [
            "Training X: 445 Testing X:  112 Training y:  445\n"
          ]
        }
      ],
      "source": [
        "print(\"Training X:\",len(X_train),\"Testing X: \",len(X_test),\"Training y: \",len(y_train))"
      ]
    },
    {
      "cell_type": "markdown",
      "metadata": {
        "id": "3Xa1JPbl2PBV"
      },
      "source": [
        "## Logistic Regression"
      ]
    },
    {
      "cell_type": "code",
      "execution_count": 80,
      "metadata": {
        "id": "PTWm0SoUsrq7"
      },
      "outputs": [],
      "source": [
        "logistic_model = LogisticRegression()\n",
        "\n",
        "clf = logistic_model.fit(X_train, y_train)"
      ]
    },
    {
      "cell_type": "code",
      "execution_count": 81,
      "metadata": {
        "colab": {
          "base_uri": "https://localhost:8080/"
        },
        "id": "iANACHiqDSme",
        "outputId": "7addf52c-40c3-47c5-c0e3-0a890a49fa05"
      },
      "outputs": [
        {
          "name": "stdout",
          "output_type": "stream",
          "text": [
            "Accuracy: 0.6071428571428571\n",
            "Classification Report:\n",
            "               precision    recall  f1-score   support\n",
            "\n",
            "         0.0       0.61      0.96      0.75        68\n",
            "         1.0       0.50      0.07      0.12        44\n",
            "\n",
            "    accuracy                           0.61       112\n",
            "   macro avg       0.56      0.51      0.43       112\n",
            "weighted avg       0.57      0.61      0.50       112\n",
            "\n",
            "Confusion Matrix:\n",
            " [[65  3]\n",
            " [41  3]]\n"
          ]
        }
      ],
      "source": [
        "y_pred = logistic_model.predict(X_test)\n",
        "\n",
        "accuracy = accuracy_score(y_test, y_pred)\n",
        "classification_report_str = classification_report(y_test, y_pred)\n",
        "conf_matrix = confusion_matrix(y_test, y_pred)\n",
        "\n",
        "# Display the results\n",
        "print(\"Accuracy:\", accuracy)\n",
        "print(\"Classification Report:\\n\", classification_report_str)\n",
        "print(\"Confusion Matrix:\\n\", conf_matrix)"
      ]
    },
    {
      "cell_type": "code",
      "execution_count": 84,
      "metadata": {
        "colab": {
          "base_uri": "https://localhost:8080/"
        },
        "id": "YYib_JDY96gR",
        "outputId": "26ce4ad0-4e78-4932-82bb-456475c5ead7"
      },
      "outputs": [
        {
          "name": "stdout",
          "output_type": "stream",
          "text": [
            "[[ 0.09800007 -0.05307758 -0.06635259 -0.4754438  -0.19165932 -0.0084872\n",
            "   0.04452052  0.12573726  0.06752211]] [-0.19845942]\n"
          ]
        }
      ],
      "source": [
        "print(clf.coef_, clf.intercept_)"
      ]
    },
    {
      "cell_type": "code",
      "execution_count": 85,
      "metadata": {
        "colab": {
          "base_uri": "https://localhost:8080/"
        },
        "id": "RAYQFgBW3Zdt",
        "outputId": "4c7874b8-4c5c-4425-8815-3e4341c14d37"
      },
      "outputs": [
        {
          "name": "stdout",
          "output_type": "stream",
          "text": [
            "Title                      0.043260\n",
            "Location                   0.003663\n",
            "Number of employees       -0.109592\n",
            "Industry Classification   -0.055519\n",
            "compute_rev_num           -0.074549\n",
            "Primary Industry           0.019934\n",
            "Number of loc             -0.022818\n",
            "Business model            -0.001761\n",
            "Status                     1.000000\n",
            "cluster                    0.080503\n",
            "Name: Status, dtype: float64\n"
          ]
        },
        {
          "name": "stderr",
          "output_type": "stream",
          "text": [
            "/var/folders/j6/vkwtdc816h123w9hsn6nsz5r0000gn/T/ipykernel_43333/3978380896.py:1: FutureWarning: The default value of numeric_only in DataFrame.corr is deprecated. In a future version, it will default to False. Select only valid columns or specify the value of numeric_only to silence this warning.\n",
            "  correlation_coeffs = data.corr()['Status']\n"
          ]
        }
      ],
      "source": [
        "correlation_coeffs = data.corr()['Status']\n",
        "print(correlation_coeffs)\n",
        "print(clf.coef_, clf.intercept_)"
      ]
    },
    {
      "cell_type": "code",
      "execution_count": 86,
      "metadata": {
        "colab": {
          "base_uri": "https://localhost:8080/",
          "height": 684
        },
        "id": "R4SDhwln3b34",
        "outputId": "f30ecc44-4083-4db3-b433-c7c880e98fc0"
      },
      "outputs": [
        {
          "name": "stderr",
          "output_type": "stream",
          "text": [
            "/var/folders/j6/vkwtdc816h123w9hsn6nsz5r0000gn/T/ipykernel_43333/3933546176.py:1: FutureWarning: The default value of numeric_only in DataFrame.corr is deprecated. In a future version, it will default to False. Select only valid columns or specify the value of numeric_only to silence this warning.\n",
            "  correlation_matrix = data.corr()\n"
          ]
        },
        {
          "data": {
            "image/png": "[encoded data removed]",
            "text/plain": [
              "<Figure size 800x600 with 2 Axes>"
            ]
          },
          "metadata": {},
          "output_type": "display_data"
        }
      ],
      "source": [
        "correlation_matrix = data.corr()\n",
        "plt.figure(figsize=(8, 6))\n",
        "sns.heatmap(correlation_matrix, annot=True, cmap='coolwarm', fmt=\".2f\")\n",
        "plt.title('Univariate Correlation Heatmap')\n",
        "plt.show()"
      ]
    },
    {
      "cell_type": "markdown",
      "metadata": {
        "id": "L0XzGp2X2Rad"
      },
      "source": [
        "## K Nearest Neighbors"
      ]
    },
    {
      "cell_type": "code",
      "execution_count": 87,
      "metadata": {
        "id": "DPljyaocsxys"
      },
      "outputs": [
        {
          "name": "stdout",
          "output_type": "stream",
          "text": [
            "Accuracy: 0.6517857142857143\n",
            "Classification Report:\n",
            "               precision    recall  f1-score   support\n",
            "\n",
            "         0.0       0.70      0.74      0.72        68\n",
            "         1.0       0.56      0.52      0.54        44\n",
            "\n",
            "    accuracy                           0.65       112\n",
            "   macro avg       0.63      0.63      0.63       112\n",
            "weighted avg       0.65      0.65      0.65       112\n",
            "\n",
            "Confusion Matrix:\n",
            " [[50 18]\n",
            " [21 23]]\n"
          ]
        }
      ],
      "source": [
        "from sklearn.neighbors import KNeighborsClassifier\n",
        "\n",
        "knn_classifier = KNeighborsClassifier(n_neighbors=3)\n",
        "\n",
        "# Train the KNN classifier on the training data\n",
        "ck = knn_classifier.fit(X_train, y_train)\n",
        "\n",
        "# Make predictions on the test data\n",
        "y_pred = knn_classifier.predict(X_test)\n",
        "\n",
        "# Calculate accuracy and other metrics\n",
        "accuracy = accuracy_score(y_test, y_pred)\n",
        "classification_report_str = classification_report(y_test, y_pred)\n",
        "conf_matrix = confusion_matrix(y_test, y_pred)\n",
        "\n",
        "# Display the results\n",
        "print(\"Accuracy:\", accuracy)\n",
        "print(\"Classification Report:\\n\", classification_report_str)\n",
        "print(\"Confusion Matrix:\\n\", conf_matrix)\n"
      ]
    },
    {
      "cell_type": "code",
      "execution_count": null,
      "metadata": {
        "id": "_DiOS65GwKbd"
      },
      "outputs": [],
      "source": [
        "print(clf.coef_, clf.intercept_)"
      ]
    },
    {
      "cell_type": "markdown",
      "metadata": {
        "id": "ZZcHIIjFM3uQ"
      },
      "source": [
        "## NLP Processing"
      ]
    },
    {
      "cell_type": "code",
      "execution_count": 25,
      "metadata": {
        "id": "eBVYzlhQwL0k"
      },
      "outputs": [],
      "source": [
        "#data.head()\n",
        "\n",
        "textual = pd.DataFrame()\n",
        "textual['TextColumn'] = data[:]['TextColumn']\n",
        "\n",
        "def preprocess_text(text):\n",
        "    \n",
        "    text = re.sub(r'[^a-zA-Z\\s]' ,'',text)\n",
        "    \n",
        "    text=text.lower()\n",
        "    \n",
        "    words = word_tokenize(text)\n",
        "    \n",
        "    stop_words = set(stopwords.words('english'))\n",
        "    words = [word for word in words if word not in stop_words]\n",
        "    \n",
        "    #stemmer = PorterStemmer()\n",
        "    #words = [stemmer.stem(word) for word in words]\n",
        "    \n",
        "    cleaned_text = ' '.join(words)\n",
        "    \n",
        "    return cleaned_text\n",
        "    \n",
        "textual['clean'] = textual['TextColumn'].apply(preprocess_text)"
      ]
    },
    {
      "cell_type": "code",
      "execution_count": 26,
      "metadata": {},
      "outputs": [
        {
          "data": {
            "text/html": [
              "<div>\n",
              "<style scoped>\n",
              "    .dataframe tbody tr th:only-of-type {\n",
              "        vertical-align: middle;\n",
              "    }\n",
              "\n",
              "    .dataframe tbody tr th {\n",
              "        vertical-align: top;\n",
              "    }\n",
              "\n",
              "    .dataframe thead th {\n",
              "        text-align: right;\n",
              "    }\n",
              "</style>\n",
              "<table border=\"1\" class=\"dataframe\">\n",
              "  <thead>\n",
              "    <tr style=\"text-align: right;\">\n",
              "      <th></th>\n",
              "      <th>TextColumn</th>\n",
              "      <th>clean</th>\n",
              "    </tr>\n",
              "  </thead>\n",
              "  <tbody>\n",
              "    <tr>\n",
              "      <th>552</th>\n",
              "      <td>the leading provider and most widely deployed ...</td>\n",
              "      <td>leading provider widely deployed realtime pers...</td>\n",
              "    </tr>\n",
              "    <tr>\n",
              "      <th>553</th>\n",
              "      <td>the UK’s most accredited, pureplay, Microsoft ...</td>\n",
              "      <td>uks accredited pureplay microsoft partner unpa...</td>\n",
              "    </tr>\n",
              "    <tr>\n",
              "      <th>554</th>\n",
              "      <td>forefront of innovation, Opportunity has been ...</td>\n",
              "      <td>forefront innovation opportunity supporting co...</td>\n",
              "    </tr>\n",
              "    <tr>\n",
              "      <th>555</th>\n",
              "      <td>the specialty coffee industry's #1 software so...</td>\n",
              "      <td>specialty coffee industrys software solution c...</td>\n",
              "    </tr>\n",
              "    <tr>\n",
              "      <th>556</th>\n",
              "      <td>a trusted IT Services company that supports gr...</td>\n",
              "      <td>trusted services company supports growing ambi...</td>\n",
              "    </tr>\n",
              "  </tbody>\n",
              "</table>\n",
              "</div>"
            ],
            "text/plain": [
              "                                            TextColumn  \\\n",
              "552  the leading provider and most widely deployed ...   \n",
              "553  the UK’s most accredited, pureplay, Microsoft ...   \n",
              "554  forefront of innovation, Opportunity has been ...   \n",
              "555  the specialty coffee industry's #1 software so...   \n",
              "556  a trusted IT Services company that supports gr...   \n",
              "\n",
              "                                                 clean  \n",
              "552  leading provider widely deployed realtime pers...  \n",
              "553  uks accredited pureplay microsoft partner unpa...  \n",
              "554  forefront innovation opportunity supporting co...  \n",
              "555  specialty coffee industrys software solution c...  \n",
              "556  trusted services company supports growing ambi...  "
            ]
          },
          "execution_count": 26,
          "metadata": {},
          "output_type": "execute_result"
        }
      ],
      "source": [
        "textual.tail()"
      ]
    },
    {
      "cell_type": "code",
      "execution_count": 27,
      "metadata": {
        "colab": {
          "base_uri": "https://localhost:8080/"
        },
        "id": "wnfACjmh0ucL",
        "outputId": "073ad9de-158f-4e21-a7fe-7e0e16fe2ee6"
      },
      "outputs": [
        {
          "name": "stderr",
          "output_type": "stream",
          "text": [
            "/Library/Frameworks/Python.framework/Versions/3.10/lib/python3.10/site-packages/sklearn/cluster/_kmeans.py:870: FutureWarning: The default value of `n_init` will change from 10 to 'auto' in 1.4. Set the value of `n_init` explicitly to suppress the warning\n",
            "  warnings.warn(\n"
          ]
        }
      ],
      "source": [
        "from sklearn.feature_extraction.text import TfidfVectorizer\n",
        "from sklearn.cluster import KMeans\n",
        "\n",
        "tfidf_vectorizer = TfidfVectorizer(max_features=5,stop_words='english')\n",
        "tfidf_matrix1 = tfidf_vectorizer.fit_transform(textual['clean'])\n",
        "\n",
        "# Choose the number of clusters (you may need to experiment)\n",
        "num_clusters = 10\n",
        "\n",
        "# Apply K-Means clustering\n",
        "kmeans = KMeans(n_clusters=num_clusters, random_state=0)\n",
        "kmeans.fit(tfidf_matrix1)\n",
        "\n",
        "# Add cluster labels to your DataFrame\n",
        "data['cluster'] = kmeans.labels_\n"
      ]
    },
    {
      "cell_type": "code",
      "execution_count": 28,
      "metadata": {
        "colab": {
          "base_uri": "https://localhost:8080/"
        },
        "id": "27f1JasdHZZk",
        "outputId": "1b02fd43-9226-4918-d74f-2270acd4db39"
      },
      "outputs": [
        {
          "name": "stdout",
          "output_type": "stream",
          "text": [
            "Silhouette Score: 0.7142453415490001\n"
          ]
        }
      ],
      "source": [
        "from sklearn.metrics import silhouette_score\n",
        "\n",
        "silhouette_avg = silhouette_score(tfidf_matrix1, kmeans.labels_)\n",
        "print(f\"Silhouette Score: {silhouette_avg}\")"
      ]
    },
    {
      "cell_type": "code",
      "execution_count": 29,
      "metadata": {
        "colab": {
          "base_uri": "https://localhost:8080/",
          "height": 472
        },
        "id": "Nh3sIlb9H6Rx",
        "outputId": "273867e7-6cec-4d51-8591-d7aafd03c013"
      },
      "outputs": [
        {
          "data": {
            "image/png": "[encoded data removed]",
            "text/plain": [
              "<Figure size 640x480 with 2 Axes>"
            ]
          },
          "metadata": {},
          "output_type": "display_data"
        }
      ],
      "source": [
        "import matplotlib.pyplot as plt\n",
        "from sklearn.decomposition import PCA\n",
        "from sklearn.manifold import TSNE\n",
        "\n",
        "#labels in 'hc.labels_'\n",
        "\n",
        "# Reduce dimensionality using PCA\n",
        "pca = PCA(n_components=2) \n",
        "tfidf_matrix_2d = pca.fit_transform(tfidf_matrix1.toarray())\n",
        "\n",
        "# Reduce dimensionality using t-SNE\n",
        "# tsne = TSNE(n_components=2, perplexity=30, n_iter=300)  # Adjust parameters as needed\n",
        "# tfidf_matrix_2d = tsne.fit_transform(tfidf_matrix.toarray())\n",
        "\n",
        "# Create a scatter plot of the data points colored by cluster labels\n",
        "plt.scatter(tfidf_matrix_2d[:, 0], tfidf_matrix_2d[:, 1], c=kmeans.labels_, cmap='viridis')\n",
        "plt.title(\"Cluster Visualization\")\n",
        "plt.xlabel(\"Dimension 1\")\n",
        "plt.ylabel(\"Dimension 2\")\n",
        "plt.colorbar()\n",
        "plt.show()\n"
      ]
    },
    {
      "cell_type": "code",
      "execution_count": 30,
      "metadata": {
        "colab": {
          "base_uri": "https://localhost:8080/",
          "height": 573
        },
        "id": "O1At-0EQB_Ne",
        "outputId": "dc8ef4fe-fa56-4f02-e18e-f91bbdaec671"
      },
      "outputs": [
        {
          "data": {
            "text/html": [
              "<div>\n",
              "<style scoped>\n",
              "    .dataframe tbody tr th:only-of-type {\n",
              "        vertical-align: middle;\n",
              "    }\n",
              "\n",
              "    .dataframe tbody tr th {\n",
              "        vertical-align: top;\n",
              "    }\n",
              "\n",
              "    .dataframe thead th {\n",
              "        text-align: right;\n",
              "    }\n",
              "</style>\n",
              "<table border=\"1\" class=\"dataframe\">\n",
              "  <thead>\n",
              "    <tr style=\"text-align: right;\">\n",
              "      <th></th>\n",
              "      <th>Title</th>\n",
              "      <th>Location</th>\n",
              "      <th>Number of employees</th>\n",
              "      <th>Industry Classification</th>\n",
              "      <th>compute_rev_num</th>\n",
              "      <th>Primary Industry</th>\n",
              "      <th>Number of loc</th>\n",
              "      <th>Business model</th>\n",
              "      <th>TextColumn</th>\n",
              "      <th>Status</th>\n",
              "      <th>cluster</th>\n",
              "    </tr>\n",
              "  </thead>\n",
              "  <tbody>\n",
              "    <tr>\n",
              "      <th>0</th>\n",
              "      <td>1.0</td>\n",
              "      <td>2.0</td>\n",
              "      <td>1.0</td>\n",
              "      <td>1.0</td>\n",
              "      <td>1.0</td>\n",
              "      <td>1.0</td>\n",
              "      <td>3.0</td>\n",
              "      <td>1.0</td>\n",
              "      <td>a B2B social selling solutions provider, dedic...</td>\n",
              "      <td>0.0</td>\n",
              "      <td>2</td>\n",
              "    </tr>\n",
              "    <tr>\n",
              "      <th>1</th>\n",
              "      <td>1.0</td>\n",
              "      <td>2.0</td>\n",
              "      <td>1.0</td>\n",
              "      <td>0.0</td>\n",
              "      <td>1.0</td>\n",
              "      <td>2.0</td>\n",
              "      <td>1.0</td>\n",
              "      <td>1.0</td>\n",
              "      <td>a blockchain infrastructure company, believes ...</td>\n",
              "      <td>1.0</td>\n",
              "      <td>1</td>\n",
              "    </tr>\n",
              "    <tr>\n",
              "      <th>2</th>\n",
              "      <td>1.0</td>\n",
              "      <td>4.0</td>\n",
              "      <td>4.0</td>\n",
              "      <td>0.0</td>\n",
              "      <td>3.0</td>\n",
              "      <td>2.0</td>\n",
              "      <td>1.0</td>\n",
              "      <td>1.0</td>\n",
              "      <td>providing professional IT services in developi...</td>\n",
              "      <td>1.0</td>\n",
              "      <td>9</td>\n",
              "    </tr>\n",
              "    <tr>\n",
              "      <th>3</th>\n",
              "      <td>1.0</td>\n",
              "      <td>3.0</td>\n",
              "      <td>4.0</td>\n",
              "      <td>0.0</td>\n",
              "      <td>3.0</td>\n",
              "      <td>1.0</td>\n",
              "      <td>3.0</td>\n",
              "      <td>1.0</td>\n",
              "      <td>innovative, high performing and customer-centr...</td>\n",
              "      <td>0.0</td>\n",
              "      <td>5</td>\n",
              "    </tr>\n",
              "    <tr>\n",
              "      <th>4</th>\n",
              "      <td>1.0</td>\n",
              "      <td>3.0</td>\n",
              "      <td>3.0</td>\n",
              "      <td>0.0</td>\n",
              "      <td>2.0</td>\n",
              "      <td>2.0</td>\n",
              "      <td>1.0</td>\n",
              "      <td>1.0</td>\n",
              "      <td>we provide you with a team of two or more digi...</td>\n",
              "      <td>0.0</td>\n",
              "      <td>4</td>\n",
              "    </tr>\n",
              "  </tbody>\n",
              "</table>\n",
              "</div>"
            ],
            "text/plain": [
              "   Title  Location  Number of employees  Industry Classification  \\\n",
              "0    1.0       2.0                  1.0                      1.0   \n",
              "1    1.0       2.0                  1.0                      0.0   \n",
              "2    1.0       4.0                  4.0                      0.0   \n",
              "3    1.0       3.0                  4.0                      0.0   \n",
              "4    1.0       3.0                  3.0                      0.0   \n",
              "\n",
              "   compute_rev_num  Primary Industry  Number of loc  Business model  \\\n",
              "0              1.0               1.0            3.0             1.0   \n",
              "1              1.0               2.0            1.0             1.0   \n",
              "2              3.0               2.0            1.0             1.0   \n",
              "3              3.0               1.0            3.0             1.0   \n",
              "4              2.0               2.0            1.0             1.0   \n",
              "\n",
              "                                          TextColumn  Status  cluster  \n",
              "0  a B2B social selling solutions provider, dedic...     0.0        2  \n",
              "1  a blockchain infrastructure company, believes ...     1.0        1  \n",
              "2  providing professional IT services in developi...     1.0        9  \n",
              "3  innovative, high performing and customer-centr...     0.0        5  \n",
              "4  we provide you with a team of two or more digi...     0.0        4  "
            ]
          },
          "execution_count": 30,
          "metadata": {},
          "output_type": "execute_result"
        }
      ],
      "source": [
        "data.head()"
      ]
    },
    {
      "cell_type": "code",
      "execution_count": 38,
      "metadata": {},
      "outputs": [
        {
          "name": "stdout",
          "output_type": "stream",
          "text": [
            "Accuracy: 0.6071428571428571\n",
            "Classification Report:\n",
            "               precision    recall  f1-score   support\n",
            "\n",
            "         0.0       0.61      0.96      0.75        68\n",
            "         1.0       0.50      0.07      0.12        44\n",
            "\n",
            "    accuracy                           0.61       112\n",
            "   macro avg       0.56      0.51      0.43       112\n",
            "weighted avg       0.57      0.61      0.50       112\n",
            "\n",
            "Confusion Matrix:\n",
            " [[65  3]\n",
            " [41  3]]\n",
            "Title                      0.043260\n",
            "Location                   0.003663\n",
            "Number of employees       -0.109592\n",
            "Industry Classification   -0.055519\n",
            "compute_rev_num           -0.074549\n",
            "Primary Industry           0.019934\n",
            "Number of loc             -0.022818\n",
            "Business model            -0.001761\n",
            "Status                     1.000000\n",
            "cluster                    0.080503\n",
            "Name: Status, dtype: float64\n",
            "[[ 0.09800007 -0.05307758 -0.06635259 -0.4754438  -0.19165932 -0.0084872\n",
            "   0.04452052  0.12573726  0.06752211]] [-0.19845942]\n"
          ]
        },
        {
          "name": "stderr",
          "output_type": "stream",
          "text": [
            "/var/folders/j6/vkwtdc816h123w9hsn6nsz5r0000gn/T/ipykernel_1447/1648318455.py:15: FutureWarning: The default value of numeric_only in DataFrame.corr is deprecated. In a future version, it will default to False. Select only valid columns or specify the value of numeric_only to silence this warning.\n",
            "  correlation_coeffs = data.corr()['Status']\n"
          ]
        }
      ],
      "source": [
        "logistic_model = LogisticRegression()\n",
        "clf = logistic_model.fit(X_train, y_train)\n",
        "\n",
        "y_pred = logistic_model.predict(X_test)\n",
        "\n",
        "accuracy = accuracy_score(y_test, y_pred)\n",
        "classification_report_str = classification_report(y_test, y_pred)\n",
        "conf_matrix = confusion_matrix(y_test, y_pred)\n",
        "\n",
        "# Display the results\n",
        "print(\"Accuracy:\", accuracy)\n",
        "print(\"Classification Report:\\n\", classification_report_str)\n",
        "print(\"Confusion Matrix:\\n\", conf_matrix)\n",
        "\n",
        "correlation_coeffs = data.corr()['Status']\n",
        "print(correlation_coeffs)\n",
        "print(clf.coef_, clf.intercept_)"
      ]
    },
    {
      "cell_type": "markdown",
      "metadata": {},
      "source": [
        "Random Testing\n"
      ]
    },
    {
      "cell_type": "code",
      "execution_count": 45,
      "metadata": {
        "id": "pqYbVrbQDU8W"
      },
      "outputs": [],
      "source": [
        "from sklearn.cluster import AgglomerativeClustering\n",
        "import scipy.cluster.hierarchy as sch\n",
        "import matplotlib.pyplot as plt\n",
        "\n",
        "tfidf_vectorizer = TfidfVectorizer(max_features=5, stop_words='english')\n",
        "tfidf_matrix = tfidf_vectorizer.fit_transform(data['TextColumn'])\n",
        "\n",
        "\n",
        "# Choose the number of clusters (you may need to experiment)\n",
        "num_clusters = 15\n",
        "hc = AgglomerativeClustering(n_clusters=num_clusters, linkage='complete')\n",
        "hc.fit(tfidf_matrix.toarray())\n",
        "\n",
        "data['clusterh'] = hc.labels_"
      ]
    },
    {
      "cell_type": "code",
      "execution_count": 46,
      "metadata": {
        "colab": {
          "base_uri": "https://localhost:8080/"
        },
        "id": "BWhfx4cVGuVD",
        "outputId": "a0a11efc-d4ec-4679-a84e-1d1949c4d13f"
      },
      "outputs": [
        {
          "name": "stdout",
          "output_type": "stream",
          "text": [
            "Silhouette Score: 0.732970119371229\n"
          ]
        }
      ],
      "source": [
        "from sklearn.metrics import silhouette_score\n",
        "\n",
        "silhouette_avg = silhouette_score(tfidf_matrix, hc.labels_)\n",
        "print(f\"Silhouette Score: {silhouette_avg}\")"
      ]
    },
    {
      "cell_type": "code",
      "execution_count": null,
      "metadata": {
        "id": "F5DXMNtfqSSA"
      },
      "outputs": [],
      "source": [
        "def get_most_common_words(text, num_words=3):\n",
        "    if isinstance(text, str):\n",
        "      words = re.findall(r'\\w+', text.lower())  # Tokenize using regular expression\n",
        "      stop_words = set(stopwords.words(\"english\"))\n",
        "      filtered_words = [word for word in words if word not in stop_words]  # Remove stopwords\n",
        "      word_freq = Counter(filtered_words)\n",
        "      return word_freq.most_common(num_words)\n",
        "    else :\n",
        "      return []"
      ]
    },
    {
      "cell_type": "code",
      "execution_count": null,
      "metadata": {
        "id": "X-3J209T1Y5_"
      },
      "outputs": [],
      "source": [
        "data['Top_Words'] = data['Company Description'].apply(get_most_common_words)"
      ]
    },
    {
      "cell_type": "code",
      "execution_count": null,
      "metadata": {
        "id": "MpaW6CEl11_2"
      },
      "outputs": [],
      "source": [
        "corpus = ' '.join(df['Company Description'].dropna().tolist())\n",
        "corpus_words = get_most_common_words(corpus, num_words=30)\n",
        "\n",
        "corpus_words"
      ]
    },
    {
      "cell_type": "code",
      "execution_count": null,
      "metadata": {
        "id": "lIh9XsGDo-2y"
      },
      "outputs": [],
      "source": [
        "data.drop('Filtered_Top_Words', axis=1, inplace=True)"
      ]
    },
    {
      "cell_type": "code",
      "execution_count": null,
      "metadata": {
        "id": "E5foB9KprZJd"
      },
      "outputs": [],
      "source": [
        "def preprocess_text(text):\n",
        "  if isinstance(text, str):\n",
        "    words = re.findall(r'\\w+', text.lower())\n",
        "    stop_words = set(stopwords.words(\"english\"))\n",
        "    filtered_words = [word for word in words if word not in stop_words]\n",
        "    return ' '.join(filtered_words)\n",
        "  else:\n",
        "    return ''"
      ]
    },
    {
      "cell_type": "code",
      "execution_count": null,
      "metadata": {
        "id": "5TQ4-Ygcs1A_"
      },
      "outputs": [],
      "source": [
        "data['filtered_words'] = data['Company Description'].apply(preprocess_text)"
      ]
    },
    {
      "cell_type": "code",
      "execution_count": null,
      "metadata": {
        "id": "BJxkVFGWtEKI"
      },
      "outputs": [],
      "source": [
        "from sklearn.feature_extraction.text import CountVectorizer\n",
        "from sklearn.metrics.pairwise import cosine_similarity"
      ]
    },
    {
      "cell_type": "code",
      "execution_count": null,
      "metadata": {
        "id": "x4ykxy16tUDL"
      },
      "outputs": [],
      "source": [
        "vectorizer = CountVectorizer()\n",
        "count_matrix = vectorizer.fit_transform(data['filtered_words'])\n",
        "count_matrix"
      ]
    },
    {
      "cell_type": "code",
      "execution_count": null,
      "metadata": {
        "id": "mwh5lHrztiOT"
      },
      "outputs": [],
      "source": [
        "cosine_similarities = cosine_similarity(count_matrix, count_matrix)"
      ]
    },
    {
      "cell_type": "code",
      "execution_count": null,
      "metadata": {
        "id": "vTzmEP4nuJvE"
      },
      "outputs": [],
      "source": [
        "cosine_similarities"
      ]
    },
    {
      "cell_type": "code",
      "execution_count": null,
      "metadata": {
        "id": "MUaZyKEfwdlk"
      },
      "outputs": [],
      "source": [
        "for i in range(len(cosine_similarities)):\n",
        "  cosine_similarities[i, i] = 0"
      ]
    },
    {
      "cell_type": "code",
      "execution_count": null,
      "metadata": {
        "id": "5xP9wvSduAPG"
      },
      "outputs": [],
      "source": [
        "highest_similarity_scores = []\n",
        "highest_similarity_row_numbers = []\n",
        "status = []"
      ]
    },
    {
      "cell_type": "code",
      "execution_count": null,
      "metadata": {
        "id": "QRM-5xpRuIBs"
      },
      "outputs": [],
      "source": [
        "for i in range(len(cosine_similarities)):\n",
        "  row_similarities = cosine_similarities[i]\n",
        "  highest_scores = max(row_similarities)\n",
        "  highest_row_number = row_similarities.argmax()\n",
        "\n",
        "  if((data['Status'][highest_row_number] == data['Status'][i])):\n",
        "    status.append(\"Yes\")\n",
        "  else:\n",
        "    status.append(\"No\")\n",
        "\n",
        "  highest_similarity_scores.append(highest_scores)\n",
        "  highest_similarity_row_numbers.append(highest_row_number)"
      ]
    },
    {
      "cell_type": "code",
      "execution_count": null,
      "metadata": {
        "id": "ne-GVX2Puzxz"
      },
      "outputs": [],
      "source": [
        "data['Highest_Similarity_Score'] = highest_similarity_scores\n",
        "data['Most_Similar_Row'] = highest_similarity_row_numbers\n",
        "data['Status_comparision'] = status\n",
        "\n",
        "data.head()"
      ]
    },
    {
      "cell_type": "code",
      "execution_count": null,
      "metadata": {
        "id": "OtilOgeMvEBO"
      },
      "outputs": [],
      "source": [
        "data.to_csv('complete_data_status.csv')"
      ]
    },
    {
      "cell_type": "markdown",
      "metadata": {},
      "source": []
    },
    {
      "cell_type": "markdown",
      "metadata": {},
      "source": [
        "## Neural Network for Traning"
      ]
    },
    {
      "cell_type": "code",
      "execution_count": 34,
      "metadata": {},
      "outputs": [],
      "source": [
        "import tensorflow as tf\n",
        "from tensorflow import keras\n",
        "from tensorflow.keras import layers\n"
      ]
    },
    {
      "cell_type": "code",
      "execution_count": 62,
      "metadata": {},
      "outputs": [
        {
          "name": "stdout",
          "output_type": "stream",
          "text": [
            "Epoch 1/5\n",
            "14/14 [==============================] - 0s 5ms/step - loss: 1.0275 - accuracy: 0.6157 - val_loss: 0.9358 - val_accuracy: 0.6071\n",
            "Epoch 2/5\n",
            "14/14 [==============================] - 0s 2ms/step - loss: 0.9352 - accuracy: 0.6180 - val_loss: 0.8634 - val_accuracy: 0.6071\n",
            "Epoch 3/5\n",
            "14/14 [==============================] - 0s 2ms/step - loss: 0.8675 - accuracy: 0.6157 - val_loss: 0.8095 - val_accuracy: 0.5982\n",
            "Epoch 4/5\n",
            "14/14 [==============================] - 0s 2ms/step - loss: 0.8169 - accuracy: 0.6067 - val_loss: 0.7709 - val_accuracy: 0.6161\n",
            "Epoch 5/5\n",
            "14/14 [==============================] - 0s 2ms/step - loss: 0.7810 - accuracy: 0.6045 - val_loss: 0.7423 - val_accuracy: 0.6071\n",
            "4/4 [==============================] - 0s 780us/step - loss: 0.7423 - accuracy: 0.6071\n"
          ]
        }
      ],
      "source": [
        "model = keras.Sequential([\n",
        "    layers.Dense(4, activation='relu', input_shape=(9,)),\n",
        "    #layers.Dense(32, activation='relu'),\n",
        "    layers.Dense(1, activation='sigmoid')  # Output layer with sigmoid activation for binary classification\n",
        "])\n",
        "\n",
        "model.compile(loss='binary_crossentropy', optimizer='adam', metrics=['accuracy'])\n",
        "history = model.fit(X_train, y_train, epochs=5, batch_size=32, validation_data=(X_test, y_test))\n",
        "test_loss, test_acc = model.evaluate(X_test, y_test)\n"
      ]
    },
    {
      "cell_type": "markdown",
      "metadata": {},
      "source": [
        "## Random Forest Classifier"
      ]
    },
    {
      "cell_type": "code",
      "execution_count": 51,
      "metadata": {},
      "outputs": [
        {
          "name": "stdout",
          "output_type": "stream",
          "text": [
            "Accuracy: 0.625\n",
            "Classification Report:\n",
            "               precision    recall  f1-score   support\n",
            "\n",
            "         0.0       0.67      0.76      0.71        68\n",
            "         1.0       0.53      0.41      0.46        44\n",
            "\n",
            "    accuracy                           0.62       112\n",
            "   macro avg       0.60      0.59      0.59       112\n",
            "weighted avg       0.61      0.62      0.61       112\n",
            "\n",
            "Confusion Matrix:\n",
            " [[52 16]\n",
            " [26 18]]\n"
          ]
        }
      ],
      "source": [
        "from sklearn.ensemble import RandomForestClassifier\n",
        "\n",
        "rf_classifier = RandomForestClassifier(n_estimators=1900, random_state=42)\n",
        "rf_classifier.fit(X_train, y_train)\n",
        "\n",
        "y_pred = rf_classifier.predict(X_test)\n",
        "accuracy = accuracy_score(y_test, y_pred)\n",
        "classification_report_str = classification_report(y_test, y_pred)\n",
        "conf_matrix = confusion_matrix(y_test, y_pred)\n",
        "\n",
        "print(\"Accuracy:\", accuracy)\n",
        "print(\"Classification Report:\\n\", classification_report_str)\n",
        "print(\"Confusion Matrix:\\n\", conf_matrix)"
      ]
    },
    {
      "cell_type": "markdown",
      "metadata": {},
      "source": [
        "## Gradient Boosting"
      ]
    },
    {
      "cell_type": "code",
      "execution_count": 57,
      "metadata": {},
      "outputs": [
        {
          "name": "stdout",
          "output_type": "stream",
          "text": [
            "Accuracy: 0.6071428571428571\n",
            "Confusion Matrix:\n",
            "[[50 18]\n",
            " [26 18]]\n",
            "Classification Report:\n",
            "              precision    recall  f1-score   support\n",
            "\n",
            "         0.0       0.66      0.74      0.69        68\n",
            "         1.0       0.50      0.41      0.45        44\n",
            "\n",
            "    accuracy                           0.61       112\n",
            "   macro avg       0.58      0.57      0.57       112\n",
            "weighted avg       0.60      0.61      0.60       112\n",
            "\n"
          ]
        }
      ],
      "source": [
        "from sklearn.ensemble import GradientBoostingClassifier\n",
        "clf = GradientBoostingClassifier(n_estimators=1000, learning_rate=0.01, max_depth=10, random_state=42)\n",
        "clf.fit(X_train, y_train)\n",
        "y_pred = clf.predict(X_test)\n",
        "\n",
        "accuracy = accuracy_score(y_test, y_pred)\n",
        "confusion = confusion_matrix(y_test, y_pred)\n",
        "classification_rep = classification_report(y_test, y_pred)\n",
        "\n",
        "print(\"Accuracy:\", accuracy)\n",
        "print(\"Confusion Matrix:\")\n",
        "print(confusion)\n",
        "print(\"Classification Report:\")\n",
        "print(classification_rep)"
      ]
    },
    {
      "cell_type": "code",
      "execution_count": null,
      "metadata": {},
      "outputs": [],
      "source": []
    }
  ],
  "metadata": {
    "accelerator": "GPU",
    "colab": {
      "gpuType": "T4",
      "provenance": []
    },
    "kernelspec": {
      "display_name": "Python 3",
      "name": "python3"
    },
    "language_info": {
      "codemirror_mode": {
        "name": "ipython",
        "version": 3
      },
      "file_extension": ".py",
      "mimetype": "text/x-python",
      "name": "python",
      "nbconvert_exporter": "python",
      "pygments_lexer": "ipython3",
      "version": "3.10.10"
    }
  },
  "nbformat": 4,
  "nbformat_minor": 0
}
